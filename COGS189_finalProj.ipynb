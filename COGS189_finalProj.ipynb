{
  "nbformat": 4,
  "nbformat_minor": 0,
  "metadata": {
    "colab": {
      "name": "COGS189_finalProj.ipynb",
      "provenance": [],
      "collapsed_sections": [
        "agH97ZZpeFGa",
        "FciquuYnqEfh",
        "K6PiUvj5bXWo",
        "LwWJRmvcnhHI",
        "I-btkFehFmD-",
        "KVM5W240uGCT",
        "_85umDTIlLJh",
        "YnsgS1UPwbwX",
        "s9p1Ci3GgjYu"
      ]
    },
    "kernelspec": {
      "name": "python3",
      "display_name": "Python 3"
    }
  },
  "cells": [
    {
      "cell_type": "markdown",
      "metadata": {
        "id": "HwJOSnhtAOiU"
      },
      "source": [
        "# **Machine Learning Analysis on EEG Confusion Data**\n"
      ]
    },
    {
      "cell_type": "markdown",
      "metadata": {
        "id": "_JhI68MIAg1E"
      },
      "source": [
        "## **Members:**\n",
        "\n",
        "\n",
        "*  Anjali Ramesh\n",
        "*  Ashna Sood \n",
        "*  Urmi Suresh\n",
        "*  Sarvottam Jalsingh\n",
        "\n",
        "\n",
        "\n",
        "\n",
        "\n",
        "\n",
        "\n",
        "\n"
      ]
    },
    {
      "cell_type": "markdown",
      "metadata": {
        "id": "pLvTDCVu_vcS"
      },
      "source": [
        "Kaggle Notebook referenced: https://www.kaggle.com/gcdatkin/eeg-confusion-prediction-full-eda-ml"
      ]
    },
    {
      "cell_type": "markdown",
      "metadata": {
        "id": "pWuLWSGPCWS8"
      },
      "source": [
        "## **Introduction**"
      ]
    },
    {
      "cell_type": "code",
      "metadata": {
        "id": "WfnmENZf_08p"
      },
      "source": [
        "# Imports \n",
        "%matplotlib inline\n",
        "\n",
        "import numpy as np\n",
        "import pandas as pd\n",
        "import matplotlib.pyplot as plt\n",
        "import os \n",
        "\n",
        "import seaborn as sns\n",
        "sns.set()\n",
        "sns.set_context('talk')\n",
        "\n",
        "import warnings\n",
        "warnings.filterwarnings('ignore')\n",
        "\n",
        "#import patsy\n",
        "#import statsmodels.api as sm\n",
        "import scipy.stats as stats\n",
        "\n",
        "from sklearn.metrics import confusion_matrix, plot_confusion_matrix, mean_absolute_error, mean_squared_error, accuracy_score, classification_report\n",
        "from sklearn.preprocessing import StandardScaler\n",
        "from sklearn.model_selection import train_test_split, KFold, GridSearchCV\n",
        "from sklearn.linear_model import LogisticRegression\n",
        "from sklearn.svm import SVC\n",
        "from sklearn import svm\n",
        "from sklearn.pipeline import make_pipeline\n",
        "from sklearn.neighbors import KNeighborsClassifier\n",
        "from sklearn.decomposition import PCA\n",
        "from sklearn.ensemble import RandomForestClassifier"
      ],
      "execution_count": null,
      "outputs": []
    },
    {
      "cell_type": "markdown",
      "metadata": {
        "id": "QzHM1YIzaHfB"
      },
      "source": [
        "## **Data Cleanup**"
      ]
    },
    {
      "cell_type": "code",
      "metadata": {
        "id": "M6RxwCilwPLo"
      },
      "source": [
        "# load in EEG and Demographics datasets \n",
        "EEG_df = pd.read_csv(\"EEG_data.csv\")\n",
        "dem_df = pd.read_csv(\"demographic_info.csv\")"
      ],
      "execution_count": null,
      "outputs": []
    },
    {
      "cell_type": "code",
      "metadata": {
        "colab": {
          "base_uri": "https://localhost:8080/",
          "height": 436
        },
        "id": "KvKC7QUx1LKx",
        "outputId": "7355bdcb-e740-4603-d729-da56fb2c68e2"
      },
      "source": [
        "EEG_df"
      ],
      "execution_count": null,
      "outputs": [
        {
          "output_type": "execute_result",
          "data": {
            "text/html": [
              "<div>\n",
              "<style scoped>\n",
              "    .dataframe tbody tr th:only-of-type {\n",
              "        vertical-align: middle;\n",
              "    }\n",
              "\n",
              "    .dataframe tbody tr th {\n",
              "        vertical-align: top;\n",
              "    }\n",
              "\n",
              "    .dataframe thead th {\n",
              "        text-align: right;\n",
              "    }\n",
              "</style>\n",
              "<table border=\"1\" class=\"dataframe\">\n",
              "  <thead>\n",
              "    <tr style=\"text-align: right;\">\n",
              "      <th></th>\n",
              "      <th>SubjectID</th>\n",
              "      <th>VideoID</th>\n",
              "      <th>Attention</th>\n",
              "      <th>Mediation</th>\n",
              "      <th>Raw</th>\n",
              "      <th>Delta</th>\n",
              "      <th>Theta</th>\n",
              "      <th>Alpha1</th>\n",
              "      <th>Alpha2</th>\n",
              "      <th>Beta1</th>\n",
              "      <th>Beta2</th>\n",
              "      <th>Gamma1</th>\n",
              "      <th>Gamma2</th>\n",
              "      <th>predefinedlabel</th>\n",
              "      <th>user-definedlabeln</th>\n",
              "    </tr>\n",
              "  </thead>\n",
              "  <tbody>\n",
              "    <tr>\n",
              "      <th>0</th>\n",
              "      <td>0.0</td>\n",
              "      <td>0.0</td>\n",
              "      <td>56.0</td>\n",
              "      <td>43.0</td>\n",
              "      <td>278.0</td>\n",
              "      <td>301963.0</td>\n",
              "      <td>90612.0</td>\n",
              "      <td>33735.0</td>\n",
              "      <td>23991.0</td>\n",
              "      <td>27946.0</td>\n",
              "      <td>45097.0</td>\n",
              "      <td>33228.0</td>\n",
              "      <td>8293.0</td>\n",
              "      <td>0.0</td>\n",
              "      <td>0.0</td>\n",
              "    </tr>\n",
              "    <tr>\n",
              "      <th>1</th>\n",
              "      <td>0.0</td>\n",
              "      <td>0.0</td>\n",
              "      <td>40.0</td>\n",
              "      <td>35.0</td>\n",
              "      <td>-50.0</td>\n",
              "      <td>73787.0</td>\n",
              "      <td>28083.0</td>\n",
              "      <td>1439.0</td>\n",
              "      <td>2240.0</td>\n",
              "      <td>2746.0</td>\n",
              "      <td>3687.0</td>\n",
              "      <td>5293.0</td>\n",
              "      <td>2740.0</td>\n",
              "      <td>0.0</td>\n",
              "      <td>0.0</td>\n",
              "    </tr>\n",
              "    <tr>\n",
              "      <th>2</th>\n",
              "      <td>0.0</td>\n",
              "      <td>0.0</td>\n",
              "      <td>47.0</td>\n",
              "      <td>48.0</td>\n",
              "      <td>101.0</td>\n",
              "      <td>758353.0</td>\n",
              "      <td>383745.0</td>\n",
              "      <td>201999.0</td>\n",
              "      <td>62107.0</td>\n",
              "      <td>36293.0</td>\n",
              "      <td>130536.0</td>\n",
              "      <td>57243.0</td>\n",
              "      <td>25354.0</td>\n",
              "      <td>0.0</td>\n",
              "      <td>0.0</td>\n",
              "    </tr>\n",
              "    <tr>\n",
              "      <th>3</th>\n",
              "      <td>0.0</td>\n",
              "      <td>0.0</td>\n",
              "      <td>47.0</td>\n",
              "      <td>57.0</td>\n",
              "      <td>-5.0</td>\n",
              "      <td>2012240.0</td>\n",
              "      <td>129350.0</td>\n",
              "      <td>61236.0</td>\n",
              "      <td>17084.0</td>\n",
              "      <td>11488.0</td>\n",
              "      <td>62462.0</td>\n",
              "      <td>49960.0</td>\n",
              "      <td>33932.0</td>\n",
              "      <td>0.0</td>\n",
              "      <td>0.0</td>\n",
              "    </tr>\n",
              "    <tr>\n",
              "      <th>4</th>\n",
              "      <td>0.0</td>\n",
              "      <td>0.0</td>\n",
              "      <td>44.0</td>\n",
              "      <td>53.0</td>\n",
              "      <td>-8.0</td>\n",
              "      <td>1005145.0</td>\n",
              "      <td>354328.0</td>\n",
              "      <td>37102.0</td>\n",
              "      <td>88881.0</td>\n",
              "      <td>45307.0</td>\n",
              "      <td>99603.0</td>\n",
              "      <td>44790.0</td>\n",
              "      <td>29749.0</td>\n",
              "      <td>0.0</td>\n",
              "      <td>0.0</td>\n",
              "    </tr>\n",
              "    <tr>\n",
              "      <th>...</th>\n",
              "      <td>...</td>\n",
              "      <td>...</td>\n",
              "      <td>...</td>\n",
              "      <td>...</td>\n",
              "      <td>...</td>\n",
              "      <td>...</td>\n",
              "      <td>...</td>\n",
              "      <td>...</td>\n",
              "      <td>...</td>\n",
              "      <td>...</td>\n",
              "      <td>...</td>\n",
              "      <td>...</td>\n",
              "      <td>...</td>\n",
              "      <td>...</td>\n",
              "      <td>...</td>\n",
              "    </tr>\n",
              "    <tr>\n",
              "      <th>12806</th>\n",
              "      <td>9.0</td>\n",
              "      <td>9.0</td>\n",
              "      <td>64.0</td>\n",
              "      <td>38.0</td>\n",
              "      <td>-39.0</td>\n",
              "      <td>127574.0</td>\n",
              "      <td>9951.0</td>\n",
              "      <td>709.0</td>\n",
              "      <td>21732.0</td>\n",
              "      <td>3872.0</td>\n",
              "      <td>39728.0</td>\n",
              "      <td>2598.0</td>\n",
              "      <td>960.0</td>\n",
              "      <td>1.0</td>\n",
              "      <td>0.0</td>\n",
              "    </tr>\n",
              "    <tr>\n",
              "      <th>12807</th>\n",
              "      <td>9.0</td>\n",
              "      <td>9.0</td>\n",
              "      <td>61.0</td>\n",
              "      <td>35.0</td>\n",
              "      <td>-275.0</td>\n",
              "      <td>323061.0</td>\n",
              "      <td>797464.0</td>\n",
              "      <td>153171.0</td>\n",
              "      <td>145805.0</td>\n",
              "      <td>39829.0</td>\n",
              "      <td>571280.0</td>\n",
              "      <td>36574.0</td>\n",
              "      <td>10010.0</td>\n",
              "      <td>1.0</td>\n",
              "      <td>0.0</td>\n",
              "    </tr>\n",
              "    <tr>\n",
              "      <th>12808</th>\n",
              "      <td>9.0</td>\n",
              "      <td>9.0</td>\n",
              "      <td>60.0</td>\n",
              "      <td>29.0</td>\n",
              "      <td>-426.0</td>\n",
              "      <td>680989.0</td>\n",
              "      <td>154296.0</td>\n",
              "      <td>40068.0</td>\n",
              "      <td>39122.0</td>\n",
              "      <td>10966.0</td>\n",
              "      <td>26975.0</td>\n",
              "      <td>20427.0</td>\n",
              "      <td>2024.0</td>\n",
              "      <td>1.0</td>\n",
              "      <td>0.0</td>\n",
              "    </tr>\n",
              "    <tr>\n",
              "      <th>12809</th>\n",
              "      <td>9.0</td>\n",
              "      <td>9.0</td>\n",
              "      <td>60.0</td>\n",
              "      <td>29.0</td>\n",
              "      <td>-84.0</td>\n",
              "      <td>366269.0</td>\n",
              "      <td>27346.0</td>\n",
              "      <td>11444.0</td>\n",
              "      <td>9932.0</td>\n",
              "      <td>1939.0</td>\n",
              "      <td>3283.0</td>\n",
              "      <td>12323.0</td>\n",
              "      <td>1764.0</td>\n",
              "      <td>1.0</td>\n",
              "      <td>0.0</td>\n",
              "    </tr>\n",
              "    <tr>\n",
              "      <th>12810</th>\n",
              "      <td>9.0</td>\n",
              "      <td>9.0</td>\n",
              "      <td>64.0</td>\n",
              "      <td>29.0</td>\n",
              "      <td>-49.0</td>\n",
              "      <td>1164555.0</td>\n",
              "      <td>1184366.0</td>\n",
              "      <td>50014.0</td>\n",
              "      <td>124208.0</td>\n",
              "      <td>10634.0</td>\n",
              "      <td>445383.0</td>\n",
              "      <td>22133.0</td>\n",
              "      <td>4482.0</td>\n",
              "      <td>1.0</td>\n",
              "      <td>0.0</td>\n",
              "    </tr>\n",
              "  </tbody>\n",
              "</table>\n",
              "<p>12811 rows × 15 columns</p>\n",
              "</div>"
            ],
            "text/plain": [
              "       SubjectID  VideoID  ...  predefinedlabel  user-definedlabeln\n",
              "0            0.0      0.0  ...              0.0                 0.0\n",
              "1            0.0      0.0  ...              0.0                 0.0\n",
              "2            0.0      0.0  ...              0.0                 0.0\n",
              "3            0.0      0.0  ...              0.0                 0.0\n",
              "4            0.0      0.0  ...              0.0                 0.0\n",
              "...          ...      ...  ...              ...                 ...\n",
              "12806        9.0      9.0  ...              1.0                 0.0\n",
              "12807        9.0      9.0  ...              1.0                 0.0\n",
              "12808        9.0      9.0  ...              1.0                 0.0\n",
              "12809        9.0      9.0  ...              1.0                 0.0\n",
              "12810        9.0      9.0  ...              1.0                 0.0\n",
              "\n",
              "[12811 rows x 15 columns]"
            ]
          },
          "metadata": {
            "tags": []
          },
          "execution_count": 5
        }
      ]
    },
    {
      "cell_type": "code",
      "metadata": {
        "colab": {
          "base_uri": "https://localhost:8080/",
          "height": 204
        },
        "id": "csqm-Ylp4P97",
        "outputId": "2d8dade6-7715-497b-dc5c-7c1f38081658"
      },
      "source": [
        "# drop unecessary columns and rename columns to eventually combine dfs\n",
        "dem_df = dem_df.drop(columns={\" ethnicity\"})\n",
        "dem_df = dem_df.rename(columns={\"subject ID\":\"SubjectID\", \" age\":\"Age\", \" gender\": \"Gender\", })\n",
        "# binarize the Gender values to 1 - Female and 0 - Male\n",
        "dem_df[\"Gender\"] = dem_df[\"Gender\"].apply(lambda x: 1  if x == 'F' else 0)\n",
        "dem_df.head()"
      ],
      "execution_count": null,
      "outputs": [
        {
          "output_type": "execute_result",
          "data": {
            "text/html": [
              "<div>\n",
              "<style scoped>\n",
              "    .dataframe tbody tr th:only-of-type {\n",
              "        vertical-align: middle;\n",
              "    }\n",
              "\n",
              "    .dataframe tbody tr th {\n",
              "        vertical-align: top;\n",
              "    }\n",
              "\n",
              "    .dataframe thead th {\n",
              "        text-align: right;\n",
              "    }\n",
              "</style>\n",
              "<table border=\"1\" class=\"dataframe\">\n",
              "  <thead>\n",
              "    <tr style=\"text-align: right;\">\n",
              "      <th></th>\n",
              "      <th>SubjectID</th>\n",
              "      <th>Age</th>\n",
              "      <th>Gender</th>\n",
              "    </tr>\n",
              "  </thead>\n",
              "  <tbody>\n",
              "    <tr>\n",
              "      <th>0</th>\n",
              "      <td>0</td>\n",
              "      <td>25</td>\n",
              "      <td>0</td>\n",
              "    </tr>\n",
              "    <tr>\n",
              "      <th>1</th>\n",
              "      <td>1</td>\n",
              "      <td>24</td>\n",
              "      <td>0</td>\n",
              "    </tr>\n",
              "    <tr>\n",
              "      <th>2</th>\n",
              "      <td>2</td>\n",
              "      <td>31</td>\n",
              "      <td>0</td>\n",
              "    </tr>\n",
              "    <tr>\n",
              "      <th>3</th>\n",
              "      <td>3</td>\n",
              "      <td>28</td>\n",
              "      <td>1</td>\n",
              "    </tr>\n",
              "    <tr>\n",
              "      <th>4</th>\n",
              "      <td>4</td>\n",
              "      <td>24</td>\n",
              "      <td>0</td>\n",
              "    </tr>\n",
              "  </tbody>\n",
              "</table>\n",
              "</div>"
            ],
            "text/plain": [
              "   SubjectID  Age  Gender\n",
              "0          0   25       0\n",
              "1          1   24       0\n",
              "2          2   31       0\n",
              "3          3   28       1\n",
              "4          4   24       0"
            ]
          },
          "metadata": {
            "tags": []
          },
          "execution_count": 6
        }
      ]
    },
    {
      "cell_type": "code",
      "metadata": {
        "colab": {
          "base_uri": "https://localhost:8080/",
          "height": 204
        },
        "id": "kTJP8kO54eaG",
        "outputId": "8297b27b-eeb0-4645-ed5b-9091baf05d6c"
      },
      "source": [
        "# merge the EEG and demographic dataframes \n",
        "df = dem_df.merge(EEG_df, on=\"SubjectID\")\n",
        "# the y in our model\n",
        "df = df.rename(columns={\"user-definedlabeln\": \"Label\"})\n",
        "# pre-assigned variable of the confusion of the video by the researchers will alter the results of the classification\n",
        "df = df.drop(columns={\"predefinedlabel\"})\n",
        "df.head()"
      ],
      "execution_count": null,
      "outputs": [
        {
          "output_type": "execute_result",
          "data": {
            "text/html": [
              "<div>\n",
              "<style scoped>\n",
              "    .dataframe tbody tr th:only-of-type {\n",
              "        vertical-align: middle;\n",
              "    }\n",
              "\n",
              "    .dataframe tbody tr th {\n",
              "        vertical-align: top;\n",
              "    }\n",
              "\n",
              "    .dataframe thead th {\n",
              "        text-align: right;\n",
              "    }\n",
              "</style>\n",
              "<table border=\"1\" class=\"dataframe\">\n",
              "  <thead>\n",
              "    <tr style=\"text-align: right;\">\n",
              "      <th></th>\n",
              "      <th>SubjectID</th>\n",
              "      <th>Age</th>\n",
              "      <th>Gender</th>\n",
              "      <th>VideoID</th>\n",
              "      <th>Attention</th>\n",
              "      <th>Mediation</th>\n",
              "      <th>Raw</th>\n",
              "      <th>Delta</th>\n",
              "      <th>Theta</th>\n",
              "      <th>Alpha1</th>\n",
              "      <th>Alpha2</th>\n",
              "      <th>Beta1</th>\n",
              "      <th>Beta2</th>\n",
              "      <th>Gamma1</th>\n",
              "      <th>Gamma2</th>\n",
              "      <th>Label</th>\n",
              "    </tr>\n",
              "  </thead>\n",
              "  <tbody>\n",
              "    <tr>\n",
              "      <th>0</th>\n",
              "      <td>0</td>\n",
              "      <td>25</td>\n",
              "      <td>0</td>\n",
              "      <td>0.0</td>\n",
              "      <td>56.0</td>\n",
              "      <td>43.0</td>\n",
              "      <td>278.0</td>\n",
              "      <td>301963.0</td>\n",
              "      <td>90612.0</td>\n",
              "      <td>33735.0</td>\n",
              "      <td>23991.0</td>\n",
              "      <td>27946.0</td>\n",
              "      <td>45097.0</td>\n",
              "      <td>33228.0</td>\n",
              "      <td>8293.0</td>\n",
              "      <td>0.0</td>\n",
              "    </tr>\n",
              "    <tr>\n",
              "      <th>1</th>\n",
              "      <td>0</td>\n",
              "      <td>25</td>\n",
              "      <td>0</td>\n",
              "      <td>0.0</td>\n",
              "      <td>40.0</td>\n",
              "      <td>35.0</td>\n",
              "      <td>-50.0</td>\n",
              "      <td>73787.0</td>\n",
              "      <td>28083.0</td>\n",
              "      <td>1439.0</td>\n",
              "      <td>2240.0</td>\n",
              "      <td>2746.0</td>\n",
              "      <td>3687.0</td>\n",
              "      <td>5293.0</td>\n",
              "      <td>2740.0</td>\n",
              "      <td>0.0</td>\n",
              "    </tr>\n",
              "    <tr>\n",
              "      <th>2</th>\n",
              "      <td>0</td>\n",
              "      <td>25</td>\n",
              "      <td>0</td>\n",
              "      <td>0.0</td>\n",
              "      <td>47.0</td>\n",
              "      <td>48.0</td>\n",
              "      <td>101.0</td>\n",
              "      <td>758353.0</td>\n",
              "      <td>383745.0</td>\n",
              "      <td>201999.0</td>\n",
              "      <td>62107.0</td>\n",
              "      <td>36293.0</td>\n",
              "      <td>130536.0</td>\n",
              "      <td>57243.0</td>\n",
              "      <td>25354.0</td>\n",
              "      <td>0.0</td>\n",
              "    </tr>\n",
              "    <tr>\n",
              "      <th>3</th>\n",
              "      <td>0</td>\n",
              "      <td>25</td>\n",
              "      <td>0</td>\n",
              "      <td>0.0</td>\n",
              "      <td>47.0</td>\n",
              "      <td>57.0</td>\n",
              "      <td>-5.0</td>\n",
              "      <td>2012240.0</td>\n",
              "      <td>129350.0</td>\n",
              "      <td>61236.0</td>\n",
              "      <td>17084.0</td>\n",
              "      <td>11488.0</td>\n",
              "      <td>62462.0</td>\n",
              "      <td>49960.0</td>\n",
              "      <td>33932.0</td>\n",
              "      <td>0.0</td>\n",
              "    </tr>\n",
              "    <tr>\n",
              "      <th>4</th>\n",
              "      <td>0</td>\n",
              "      <td>25</td>\n",
              "      <td>0</td>\n",
              "      <td>0.0</td>\n",
              "      <td>44.0</td>\n",
              "      <td>53.0</td>\n",
              "      <td>-8.0</td>\n",
              "      <td>1005145.0</td>\n",
              "      <td>354328.0</td>\n",
              "      <td>37102.0</td>\n",
              "      <td>88881.0</td>\n",
              "      <td>45307.0</td>\n",
              "      <td>99603.0</td>\n",
              "      <td>44790.0</td>\n",
              "      <td>29749.0</td>\n",
              "      <td>0.0</td>\n",
              "    </tr>\n",
              "  </tbody>\n",
              "</table>\n",
              "</div>"
            ],
            "text/plain": [
              "   SubjectID  Age  Gender  VideoID  ...     Beta2   Gamma1   Gamma2  Label\n",
              "0          0   25       0      0.0  ...   45097.0  33228.0   8293.0    0.0\n",
              "1          0   25       0      0.0  ...    3687.0   5293.0   2740.0    0.0\n",
              "2          0   25       0      0.0  ...  130536.0  57243.0  25354.0    0.0\n",
              "3          0   25       0      0.0  ...   62462.0  49960.0  33932.0    0.0\n",
              "4          0   25       0      0.0  ...   99603.0  44790.0  29749.0    0.0\n",
              "\n",
              "[5 rows x 16 columns]"
            ]
          },
          "metadata": {
            "tags": []
          },
          "execution_count": 7
        }
      ]
    },
    {
      "cell_type": "code",
      "metadata": {
        "colab": {
          "base_uri": "https://localhost:8080/"
        },
        "id": "b7NxCHKP7g24",
        "outputId": "e2477d1b-3a03-43cc-f4f9-cc907d9b4de6"
      },
      "source": [
        "# check for null values \n",
        "print(\"Missing Values?\",df.isna().values.any())"
      ],
      "execution_count": null,
      "outputs": [
        {
          "output_type": "stream",
          "text": [
            "Missing Values? False\n"
          ],
          "name": "stdout"
        }
      ]
    },
    {
      "cell_type": "markdown",
      "metadata": {
        "id": "agH97ZZpeFGa"
      },
      "source": [
        "## **EDA**"
      ]
    },
    {
      "cell_type": "code",
      "metadata": {
        "colab": {
          "base_uri": "https://localhost:8080/",
          "height": 317
        },
        "id": "yZtk5ydgeKHZ",
        "outputId": "4728d32b-420e-4861-91a5-65255a20fcb9"
      },
      "source": [
        "# show the described data\n",
        "df.describe()"
      ],
      "execution_count": null,
      "outputs": [
        {
          "output_type": "execute_result",
          "data": {
            "text/html": [
              "<div>\n",
              "<style scoped>\n",
              "    .dataframe tbody tr th:only-of-type {\n",
              "        vertical-align: middle;\n",
              "    }\n",
              "\n",
              "    .dataframe tbody tr th {\n",
              "        vertical-align: top;\n",
              "    }\n",
              "\n",
              "    .dataframe thead th {\n",
              "        text-align: right;\n",
              "    }\n",
              "</style>\n",
              "<table border=\"1\" class=\"dataframe\">\n",
              "  <thead>\n",
              "    <tr style=\"text-align: right;\">\n",
              "      <th></th>\n",
              "      <th>SubjectID</th>\n",
              "      <th>Age</th>\n",
              "      <th>Gender</th>\n",
              "      <th>VideoID</th>\n",
              "      <th>Attention</th>\n",
              "      <th>Mediation</th>\n",
              "      <th>Raw</th>\n",
              "      <th>Delta</th>\n",
              "      <th>Theta</th>\n",
              "      <th>Alpha1</th>\n",
              "      <th>Alpha2</th>\n",
              "      <th>Beta1</th>\n",
              "      <th>Beta2</th>\n",
              "      <th>Gamma1</th>\n",
              "      <th>Gamma2</th>\n",
              "      <th>Label</th>\n",
              "    </tr>\n",
              "  </thead>\n",
              "  <tbody>\n",
              "    <tr>\n",
              "      <th>count</th>\n",
              "      <td>12811.000000</td>\n",
              "      <td>12811.000000</td>\n",
              "      <td>12811.000000</td>\n",
              "      <td>12811.000000</td>\n",
              "      <td>12811.000000</td>\n",
              "      <td>12811.000000</td>\n",
              "      <td>12811.000000</td>\n",
              "      <td>1.281100e+04</td>\n",
              "      <td>1.281100e+04</td>\n",
              "      <td>1.281100e+04</td>\n",
              "      <td>1.281100e+04</td>\n",
              "      <td>1.281100e+04</td>\n",
              "      <td>1.281100e+04</td>\n",
              "      <td>1.281100e+04</td>\n",
              "      <td>1.281100e+04</td>\n",
              "      <td>12811.000000</td>\n",
              "    </tr>\n",
              "    <tr>\n",
              "      <th>mean</th>\n",
              "      <td>4.487394</td>\n",
              "      <td>25.409960</td>\n",
              "      <td>0.200999</td>\n",
              "      <td>4.390602</td>\n",
              "      <td>41.313871</td>\n",
              "      <td>47.182656</td>\n",
              "      <td>65.570760</td>\n",
              "      <td>6.057853e+05</td>\n",
              "      <td>1.680526e+05</td>\n",
              "      <td>4.138435e+04</td>\n",
              "      <td>3.318339e+04</td>\n",
              "      <td>2.431837e+04</td>\n",
              "      <td>3.814433e+04</td>\n",
              "      <td>2.959255e+04</td>\n",
              "      <td>1.441597e+04</td>\n",
              "      <td>0.512606</td>\n",
              "    </tr>\n",
              "    <tr>\n",
              "      <th>std</th>\n",
              "      <td>2.865373</td>\n",
              "      <td>2.205148</td>\n",
              "      <td>0.400763</td>\n",
              "      <td>2.913232</td>\n",
              "      <td>23.152953</td>\n",
              "      <td>22.655976</td>\n",
              "      <td>597.921035</td>\n",
              "      <td>6.376236e+05</td>\n",
              "      <td>2.441346e+05</td>\n",
              "      <td>7.243082e+04</td>\n",
              "      <td>5.831410e+04</td>\n",
              "      <td>3.837968e+04</td>\n",
              "      <td>7.906606e+04</td>\n",
              "      <td>7.982637e+04</td>\n",
              "      <td>3.603523e+04</td>\n",
              "      <td>0.499861</td>\n",
              "    </tr>\n",
              "    <tr>\n",
              "      <th>min</th>\n",
              "      <td>0.000000</td>\n",
              "      <td>24.000000</td>\n",
              "      <td>0.000000</td>\n",
              "      <td>0.000000</td>\n",
              "      <td>0.000000</td>\n",
              "      <td>0.000000</td>\n",
              "      <td>-2048.000000</td>\n",
              "      <td>4.480000e+02</td>\n",
              "      <td>1.700000e+01</td>\n",
              "      <td>2.000000e+00</td>\n",
              "      <td>2.000000e+00</td>\n",
              "      <td>3.000000e+00</td>\n",
              "      <td>2.000000e+00</td>\n",
              "      <td>1.000000e+00</td>\n",
              "      <td>2.000000e+00</td>\n",
              "      <td>0.000000</td>\n",
              "    </tr>\n",
              "    <tr>\n",
              "      <th>25%</th>\n",
              "      <td>2.000000</td>\n",
              "      <td>24.000000</td>\n",
              "      <td>0.000000</td>\n",
              "      <td>2.000000</td>\n",
              "      <td>27.000000</td>\n",
              "      <td>37.000000</td>\n",
              "      <td>-14.000000</td>\n",
              "      <td>9.806400e+04</td>\n",
              "      <td>2.691750e+04</td>\n",
              "      <td>6.838000e+03</td>\n",
              "      <td>6.852000e+03</td>\n",
              "      <td>6.140000e+03</td>\n",
              "      <td>7.358500e+03</td>\n",
              "      <td>4.058000e+03</td>\n",
              "      <td>2.167500e+03</td>\n",
              "      <td>0.000000</td>\n",
              "    </tr>\n",
              "    <tr>\n",
              "      <th>50%</th>\n",
              "      <td>4.000000</td>\n",
              "      <td>25.000000</td>\n",
              "      <td>0.000000</td>\n",
              "      <td>4.000000</td>\n",
              "      <td>43.000000</td>\n",
              "      <td>51.000000</td>\n",
              "      <td>35.000000</td>\n",
              "      <td>3.954870e+05</td>\n",
              "      <td>8.133100e+04</td>\n",
              "      <td>1.750000e+04</td>\n",
              "      <td>1.495900e+04</td>\n",
              "      <td>1.281800e+04</td>\n",
              "      <td>1.581000e+04</td>\n",
              "      <td>9.763000e+03</td>\n",
              "      <td>5.116000e+03</td>\n",
              "      <td>1.000000</td>\n",
              "    </tr>\n",
              "    <tr>\n",
              "      <th>75%</th>\n",
              "      <td>7.000000</td>\n",
              "      <td>25.000000</td>\n",
              "      <td>0.000000</td>\n",
              "      <td>7.000000</td>\n",
              "      <td>57.000000</td>\n",
              "      <td>63.000000</td>\n",
              "      <td>90.000000</td>\n",
              "      <td>9.166230e+05</td>\n",
              "      <td>2.052760e+05</td>\n",
              "      <td>4.477950e+04</td>\n",
              "      <td>3.455050e+04</td>\n",
              "      <td>2.740600e+04</td>\n",
              "      <td>3.549400e+04</td>\n",
              "      <td>2.488800e+04</td>\n",
              "      <td>1.266950e+04</td>\n",
              "      <td>1.000000</td>\n",
              "    </tr>\n",
              "    <tr>\n",
              "      <th>max</th>\n",
              "      <td>9.000000</td>\n",
              "      <td>31.000000</td>\n",
              "      <td>1.000000</td>\n",
              "      <td>9.000000</td>\n",
              "      <td>100.000000</td>\n",
              "      <td>100.000000</td>\n",
              "      <td>2047.000000</td>\n",
              "      <td>3.964663e+06</td>\n",
              "      <td>3.007802e+06</td>\n",
              "      <td>1.369955e+06</td>\n",
              "      <td>1.016913e+06</td>\n",
              "      <td>1.067778e+06</td>\n",
              "      <td>1.645369e+06</td>\n",
              "      <td>1.972506e+06</td>\n",
              "      <td>1.348117e+06</td>\n",
              "      <td>1.000000</td>\n",
              "    </tr>\n",
              "  </tbody>\n",
              "</table>\n",
              "</div>"
            ],
            "text/plain": [
              "          SubjectID           Age  ...        Gamma2         Label\n",
              "count  12811.000000  12811.000000  ...  1.281100e+04  12811.000000\n",
              "mean       4.487394     25.409960  ...  1.441597e+04      0.512606\n",
              "std        2.865373      2.205148  ...  3.603523e+04      0.499861\n",
              "min        0.000000     24.000000  ...  2.000000e+00      0.000000\n",
              "25%        2.000000     24.000000  ...  2.167500e+03      0.000000\n",
              "50%        4.000000     25.000000  ...  5.116000e+03      1.000000\n",
              "75%        7.000000     25.000000  ...  1.266950e+04      1.000000\n",
              "max        9.000000     31.000000  ...  1.348117e+06      1.000000\n",
              "\n",
              "[8 rows x 16 columns]"
            ]
          },
          "metadata": {
            "tags": []
          },
          "execution_count": 9
        }
      ]
    },
    {
      "cell_type": "code",
      "metadata": {
        "colab": {
          "base_uri": "https://localhost:8080/"
        },
        "id": "OjMOwDK0GKBD",
        "outputId": "f45c0f9a-cccc-4de2-a5b8-356638043d6f"
      },
      "source": [
        "# see all column names to scope the most important features \n",
        "df.columns"
      ],
      "execution_count": null,
      "outputs": [
        {
          "output_type": "execute_result",
          "data": {
            "text/plain": [
              "Index(['SubjectID', 'Age', 'Gender', 'VideoID', 'Attention', 'Mediation',\n",
              "       'Raw', 'Delta', 'Theta', 'Alpha1', 'Alpha2', 'Beta1', 'Beta2', 'Gamma1',\n",
              "       'Gamma2', 'Label'],\n",
              "      dtype='object')"
            ]
          },
          "metadata": {
            "tags": []
          },
          "execution_count": 10
        }
      ]
    },
    {
      "cell_type": "code",
      "metadata": {
        "id": "kg96pk-WeQP0",
        "colab": {
          "base_uri": "https://localhost:8080/",
          "height": 390
        },
        "outputId": "17c9adbe-1d72-46f7-f303-26477e2eceb3"
      },
      "source": [
        "# see correlations between variables, excluding Subject and Video ID\n",
        "features = ['SubjectID', 'VideoID', 'Attention', 'Mediation','Raw', 'Delta', 'Theta', 'Alpha1', \n",
        "            'Alpha2', 'Beta1', 'Beta2', 'Gamma1', 'Gamma2']\n",
        "EEG_corrs = df[features[2:]].corr()\n",
        "EEG_corrs = EEG_corrs.round(3)\n",
        "EEG_corrs"
      ],
      "execution_count": null,
      "outputs": [
        {
          "output_type": "execute_result",
          "data": {
            "text/html": [
              "<div>\n",
              "<style scoped>\n",
              "    .dataframe tbody tr th:only-of-type {\n",
              "        vertical-align: middle;\n",
              "    }\n",
              "\n",
              "    .dataframe tbody tr th {\n",
              "        vertical-align: top;\n",
              "    }\n",
              "\n",
              "    .dataframe thead th {\n",
              "        text-align: right;\n",
              "    }\n",
              "</style>\n",
              "<table border=\"1\" class=\"dataframe\">\n",
              "  <thead>\n",
              "    <tr style=\"text-align: right;\">\n",
              "      <th></th>\n",
              "      <th>Attention</th>\n",
              "      <th>Mediation</th>\n",
              "      <th>Raw</th>\n",
              "      <th>Delta</th>\n",
              "      <th>Theta</th>\n",
              "      <th>Alpha1</th>\n",
              "      <th>Alpha2</th>\n",
              "      <th>Beta1</th>\n",
              "      <th>Beta2</th>\n",
              "      <th>Gamma1</th>\n",
              "      <th>Gamma2</th>\n",
              "    </tr>\n",
              "  </thead>\n",
              "  <tbody>\n",
              "    <tr>\n",
              "      <th>Attention</th>\n",
              "      <td>1.000</td>\n",
              "      <td>0.549</td>\n",
              "      <td>-0.095</td>\n",
              "      <td>-0.220</td>\n",
              "      <td>-0.258</td>\n",
              "      <td>-0.199</td>\n",
              "      <td>-0.247</td>\n",
              "      <td>-0.255</td>\n",
              "      <td>-0.307</td>\n",
              "      <td>-0.300</td>\n",
              "      <td>-0.313</td>\n",
              "    </tr>\n",
              "    <tr>\n",
              "      <th>Mediation</th>\n",
              "      <td>0.549</td>\n",
              "      <td>1.000</td>\n",
              "      <td>-0.107</td>\n",
              "      <td>-0.112</td>\n",
              "      <td>-0.180</td>\n",
              "      <td>-0.043</td>\n",
              "      <td>-0.154</td>\n",
              "      <td>-0.241</td>\n",
              "      <td>-0.391</td>\n",
              "      <td>-0.345</td>\n",
              "      <td>-0.373</td>\n",
              "    </tr>\n",
              "    <tr>\n",
              "      <th>Raw</th>\n",
              "      <td>-0.095</td>\n",
              "      <td>-0.107</td>\n",
              "      <td>1.000</td>\n",
              "      <td>0.049</td>\n",
              "      <td>0.053</td>\n",
              "      <td>0.045</td>\n",
              "      <td>0.064</td>\n",
              "      <td>0.091</td>\n",
              "      <td>0.174</td>\n",
              "      <td>0.187</td>\n",
              "      <td>0.206</td>\n",
              "    </tr>\n",
              "    <tr>\n",
              "      <th>Delta</th>\n",
              "      <td>-0.220</td>\n",
              "      <td>-0.112</td>\n",
              "      <td>0.049</td>\n",
              "      <td>1.000</td>\n",
              "      <td>0.483</td>\n",
              "      <td>0.427</td>\n",
              "      <td>0.410</td>\n",
              "      <td>0.395</td>\n",
              "      <td>0.261</td>\n",
              "      <td>0.210</td>\n",
              "      <td>0.219</td>\n",
              "    </tr>\n",
              "    <tr>\n",
              "      <th>Theta</th>\n",
              "      <td>-0.258</td>\n",
              "      <td>-0.180</td>\n",
              "      <td>0.053</td>\n",
              "      <td>0.483</td>\n",
              "      <td>1.000</td>\n",
              "      <td>0.587</td>\n",
              "      <td>0.554</td>\n",
              "      <td>0.556</td>\n",
              "      <td>0.369</td>\n",
              "      <td>0.300</td>\n",
              "      <td>0.309</td>\n",
              "    </tr>\n",
              "    <tr>\n",
              "      <th>Alpha1</th>\n",
              "      <td>-0.199</td>\n",
              "      <td>-0.043</td>\n",
              "      <td>0.045</td>\n",
              "      <td>0.427</td>\n",
              "      <td>0.587</td>\n",
              "      <td>1.000</td>\n",
              "      <td>0.565</td>\n",
              "      <td>0.549</td>\n",
              "      <td>0.318</td>\n",
              "      <td>0.268</td>\n",
              "      <td>0.324</td>\n",
              "    </tr>\n",
              "    <tr>\n",
              "      <th>Alpha2</th>\n",
              "      <td>-0.247</td>\n",
              "      <td>-0.154</td>\n",
              "      <td>0.064</td>\n",
              "      <td>0.410</td>\n",
              "      <td>0.554</td>\n",
              "      <td>0.565</td>\n",
              "      <td>1.000</td>\n",
              "      <td>0.627</td>\n",
              "      <td>0.465</td>\n",
              "      <td>0.375</td>\n",
              "      <td>0.456</td>\n",
              "    </tr>\n",
              "    <tr>\n",
              "      <th>Beta1</th>\n",
              "      <td>-0.255</td>\n",
              "      <td>-0.241</td>\n",
              "      <td>0.091</td>\n",
              "      <td>0.395</td>\n",
              "      <td>0.556</td>\n",
              "      <td>0.549</td>\n",
              "      <td>0.627</td>\n",
              "      <td>1.000</td>\n",
              "      <td>0.480</td>\n",
              "      <td>0.422</td>\n",
              "      <td>0.527</td>\n",
              "    </tr>\n",
              "    <tr>\n",
              "      <th>Beta2</th>\n",
              "      <td>-0.307</td>\n",
              "      <td>-0.391</td>\n",
              "      <td>0.174</td>\n",
              "      <td>0.261</td>\n",
              "      <td>0.369</td>\n",
              "      <td>0.318</td>\n",
              "      <td>0.465</td>\n",
              "      <td>0.480</td>\n",
              "      <td>1.000</td>\n",
              "      <td>0.809</td>\n",
              "      <td>0.693</td>\n",
              "    </tr>\n",
              "    <tr>\n",
              "      <th>Gamma1</th>\n",
              "      <td>-0.300</td>\n",
              "      <td>-0.345</td>\n",
              "      <td>0.187</td>\n",
              "      <td>0.210</td>\n",
              "      <td>0.300</td>\n",
              "      <td>0.268</td>\n",
              "      <td>0.375</td>\n",
              "      <td>0.422</td>\n",
              "      <td>0.809</td>\n",
              "      <td>1.000</td>\n",
              "      <td>0.740</td>\n",
              "    </tr>\n",
              "    <tr>\n",
              "      <th>Gamma2</th>\n",
              "      <td>-0.313</td>\n",
              "      <td>-0.373</td>\n",
              "      <td>0.206</td>\n",
              "      <td>0.219</td>\n",
              "      <td>0.309</td>\n",
              "      <td>0.324</td>\n",
              "      <td>0.456</td>\n",
              "      <td>0.527</td>\n",
              "      <td>0.693</td>\n",
              "      <td>0.740</td>\n",
              "      <td>1.000</td>\n",
              "    </tr>\n",
              "  </tbody>\n",
              "</table>\n",
              "</div>"
            ],
            "text/plain": [
              "           Attention  Mediation    Raw  Delta  ...  Beta1  Beta2  Gamma1  Gamma2\n",
              "Attention      1.000      0.549 -0.095 -0.220  ... -0.255 -0.307  -0.300  -0.313\n",
              "Mediation      0.549      1.000 -0.107 -0.112  ... -0.241 -0.391  -0.345  -0.373\n",
              "Raw           -0.095     -0.107  1.000  0.049  ...  0.091  0.174   0.187   0.206\n",
              "Delta         -0.220     -0.112  0.049  1.000  ...  0.395  0.261   0.210   0.219\n",
              "Theta         -0.258     -0.180  0.053  0.483  ...  0.556  0.369   0.300   0.309\n",
              "Alpha1        -0.199     -0.043  0.045  0.427  ...  0.549  0.318   0.268   0.324\n",
              "Alpha2        -0.247     -0.154  0.064  0.410  ...  0.627  0.465   0.375   0.456\n",
              "Beta1         -0.255     -0.241  0.091  0.395  ...  1.000  0.480   0.422   0.527\n",
              "Beta2         -0.307     -0.391  0.174  0.261  ...  0.480  1.000   0.809   0.693\n",
              "Gamma1        -0.300     -0.345  0.187  0.210  ...  0.422  0.809   1.000   0.740\n",
              "Gamma2        -0.313     -0.373  0.206  0.219  ...  0.527  0.693   0.740   1.000\n",
              "\n",
              "[11 rows x 11 columns]"
            ]
          },
          "metadata": {
            "tags": []
          },
          "execution_count": 11
        }
      ]
    },
    {
      "cell_type": "code",
      "metadata": {
        "colab": {
          "base_uri": "https://localhost:8080/",
          "height": 892
        },
        "id": "mbAZIETZBji5",
        "outputId": "49ec03d7-4d52-4617-bedb-b66a781e59c2"
      },
      "source": [
        "# visualize correlation matrix in a heatmap to easily depict the highly correlated variables\n",
        "plt.figure(figsize=(14, 14))\n",
        "sns.heatmap(EEG_corrs, annot=True, vmin=-1.0, cmap='PuBuGn')\n",
        "plt.show()"
      ],
      "execution_count": null,
      "outputs": [
        {
          "output_type": "display_data",
          "data": {
            "image/png": "[encoded data removed]",
            "text/plain": [
              "<Figure size 1008x1008 with 2 Axes>"
            ]
          },
          "metadata": {
            "tags": [],
            "needs_background": "light"
          }
        }
      ]
    },
    {
      "cell_type": "code",
      "metadata": {
        "colab": {
          "base_uri": "https://localhost:8080/"
        },
        "id": "xHO6NpHVDItm",
        "outputId": "95e1b5ae-5066-4583-ff57-18800bc61759"
      },
      "source": [
        "# print out the exact values to make sure that the samples are evenly split between confused & not confused\n",
        "print(\"Label count:\\n\", df[\"Label\"].value_counts())\n",
        "print(\"Subject ID count:\\n\", df[\"SubjectID\"].value_counts())\n",
        "print(\"Video ID count:\\n\", df[\"VideoID\"].value_counts())"
      ],
      "execution_count": null,
      "outputs": [
        {
          "output_type": "stream",
          "text": [
            "Label count:\n",
            " 1.0    6567\n",
            "0.0    6244\n",
            "Name: Label, dtype: int64\n",
            "Subject ID count:\n",
            " 3    1314\n",
            "1    1301\n",
            "4    1295\n",
            "2    1284\n",
            "8    1282\n",
            "7    1276\n",
            "6    1275\n",
            "5    1262\n",
            "9    1261\n",
            "0    1261\n",
            "Name: SubjectID, dtype: int64\n",
            "Video ID count:\n",
            " 1.0    1414\n",
            "0.0    1412\n",
            "4.0    1356\n",
            "9.0    1281\n",
            "8.0    1280\n",
            "2.0    1274\n",
            "5.0    1230\n",
            "3.0    1206\n",
            "6.0    1181\n",
            "7.0    1177\n",
            "Name: VideoID, dtype: int64\n"
          ],
          "name": "stdout"
        }
      ]
    },
    {
      "cell_type": "code",
      "metadata": {
        "colab": {
          "base_uri": "https://localhost:8080/",
          "height": 894
        },
        "id": "bW6kx2CiKkfO",
        "outputId": "4692e2cd-14ef-4121-db90-287a2628ee05"
      },
      "source": [
        "# univariate analysis for continuous features to visualize the distributions of the variables  \n",
        "df[features[2:]].plot(kind='box', figsize=(15, 15), subplots=True, layout=(3, 4))\n",
        "plt.show()"
      ],
      "execution_count": null,
      "outputs": [
        {
          "output_type": "display_data",
          "data": {
            "image/png": "[encoded data removed]",
            "text/plain": [
              "<Figure size 1080x1080 with 12 Axes>"
            ]
          },
          "metadata": {
            "tags": [],
            "needs_background": "light"
          }
        }
      ]
    },
    {
      "cell_type": "markdown",
      "metadata": {
        "id": "FciquuYnqEfh"
      },
      "source": [
        "## **Data Analysis**"
      ]
    },
    {
      "cell_type": "markdown",
      "metadata": {
        "id": "K6PiUvj5bXWo"
      },
      "source": [
        "### **Logistic Regression**"
      ]
    },
    {
      "cell_type": "code",
      "metadata": {
        "id": "dGrj0I68sIMB"
      },
      "source": [
        "# first define our X and y\n",
        "X = df[features]\n",
        "y = df['Label']\n",
        "\n",
        "# split the data into training and testing sets \n",
        "X_train, X_test, y_train, y_test = train_test_split(X, y, test_size=0.2, random_state=0)"
      ],
      "execution_count": null,
      "outputs": []
    },
    {
      "cell_type": "code",
      "metadata": {
        "colab": {
          "base_uri": "https://localhost:8080/"
        },
        "id": "KV26UvyxSgC0",
        "outputId": "d06113cc-8b91-47ad-c5ab-1252525ddb81"
      },
      "source": [
        "# standardize values -- ended up later not improving results \n",
        "#Xsc =  StandardScaler().fit_transform(X_train)\n",
        "\n",
        "# create and train the logistic regression model \n",
        "lr_model = LogisticRegression(penalty=\"l1\", solver=\"liblinear\", C=0.1, random_state=120)\n",
        "lr_model.fit(X_train, y_train)\n",
        "\n",
        "# calculate training set accuracy \n",
        "lr_train_acc = lr_model.score(X_train, y_train)\n",
        "print(\"Training Set accuracy:\", lr_train_acc)\n",
        "\n",
        "# make predictions\n",
        "lr_pred = (lr_model.predict(X_test))\n",
        "lr_true = y_test\n",
        "# calculate testing set accuracy \n",
        "lr_test_acc = accuracy_score(lr_true, lr_pred)\n",
        "print(\"Test Set accuracy:\", lr_test_acc)"
      ],
      "execution_count": null,
      "outputs": [
        {
          "output_type": "stream",
          "text": [
            "Training Set accuracy: 0.6052888368462139\n",
            "Test Set accuracy: 0.5879828326180258\n"
          ],
          "name": "stdout"
        }
      ]
    },
    {
      "cell_type": "code",
      "metadata": {
        "colab": {
          "base_uri": "https://localhost:8080/",
          "height": 301
        },
        "id": "wxPfErnWborI",
        "outputId": "f7e4597c-a360-451e-cc30-146109079edd"
      },
      "source": [
        "# caclulate confusion matrix to visualize TP, FP, TN, FN rates \n",
        "plot_confusion_matrix(lr_model,X_test,y_test,normalize='true', display_labels=['Not Confused', 'Confused'])\n",
        "plt.grid(False)"
      ],
      "execution_count": null,
      "outputs": [
        {
          "output_type": "display_data",
          "data": {
            "image/png": "[encoded data removed]",
            "text/plain": [
              "<Figure size 432x288 with 2 Axes>"
            ]
          },
          "metadata": {
            "tags": [],
            "needs_background": "light"
          }
        }
      ]
    },
    {
      "cell_type": "code",
      "metadata": {
        "colab": {
          "base_uri": "https://localhost:8080/"
        },
        "id": "Z5SymclJfktj",
        "outputId": "dcd434bd-e91e-484a-a7dc-d26c5632618b"
      },
      "source": [
        "# caclulate metrics -- precision, recall, F1 score\n",
        "print(classification_report(lr_true, lr_pred, target_names = ['Not Confused', 'Confused']))"
      ],
      "execution_count": null,
      "outputs": [
        {
          "output_type": "stream",
          "text": [
            "              precision    recall  f1-score   support\n",
            "\n",
            "Not Confused       0.59      0.59      0.59      1278\n",
            "    Confused       0.59      0.59      0.59      1285\n",
            "\n",
            "    accuracy                           0.59      2563\n",
            "   macro avg       0.59      0.59      0.59      2563\n",
            "weighted avg       0.59      0.59      0.59      2563\n",
            "\n"
          ],
          "name": "stdout"
        }
      ]
    },
    {
      "cell_type": "code",
      "metadata": {
        "id": "KJ11rfbTfU2o"
      },
      "source": [
        "# method to calculate metrics\n",
        "def calculate_metrics(y_true, y_pred):\n",
        "  # create a dictionary with all metrics: sensitivity (aka recall), specificity, precision, F1 score, and accuracy \n",
        "  tp, fn, fp, tn = confusion_matrix(y_true, y_pred).ravel()\n",
        "  metrics_dict = {\"Accuracy\": np.round((tp + tn) / (tp + fn + fp + tn), 3),\n",
        "                \"Sensitivity\": np.round(tp / (tp + fn), 3), \n",
        "                \"Specificity\": np.round(tn / (tn + fp), 3), \n",
        "                \"Precision\": np.round(tp / (tp + fp), 3), \n",
        "                \"Recall\": np.round(tp / (tp + fn), 3),\n",
        "                \"F1 Score\": np.round(2 * ((tp / (tp + fp)) * (tp / (tp + fn))) / ((tp / (tp + fp)) + (tp / (tp + fn))), 3)}\n",
        "  return metrics_dict"
      ],
      "execution_count": null,
      "outputs": []
    },
    {
      "cell_type": "code",
      "metadata": {
        "colab": {
          "base_uri": "https://localhost:8080/"
        },
        "id": "YAo9bNDKomYG",
        "outputId": "927cdbd6-435a-47be-d11f-3422232e1d72"
      },
      "source": [
        "# calculate additional metrics -- accuracy, sensitivity \n",
        "lr_metrics = calculate_metrics(lr_true, lr_pred)\n",
        "print(\"Logistic Regression Metrics:\\n\", lr_metrics)"
      ],
      "execution_count": null,
      "outputs": [
        {
          "output_type": "stream",
          "text": [
            "Logistic Regression Metrics:\n",
            " {'Accuracy': 0.588, 'Sensitivity': 0.591, 'Specificity': 0.585, 'Precision': 0.586, 'Recall': 0.591, 'F1 Score': 0.588}\n"
          ],
          "name": "stdout"
        }
      ]
    },
    {
      "cell_type": "code",
      "metadata": {
        "colab": {
          "base_uri": "https://localhost:8080/",
          "height": 204
        },
        "id": "toBoAuBfwsYX",
        "outputId": "ca3c06e6-73cd-43b4-b6ce-77be075da89d"
      },
      "source": [
        "# results of logistic regression model actual vs predicteds\n",
        "result1 = pd.DataFrame({'Actual': lr_true, 'Predicted': lr_pred})\n",
        "result1.head()"
      ],
      "execution_count": null,
      "outputs": [
        {
          "output_type": "execute_result",
          "data": {
            "text/html": [
              "<div>\n",
              "<style scoped>\n",
              "    .dataframe tbody tr th:only-of-type {\n",
              "        vertical-align: middle;\n",
              "    }\n",
              "\n",
              "    .dataframe tbody tr th {\n",
              "        vertical-align: top;\n",
              "    }\n",
              "\n",
              "    .dataframe thead th {\n",
              "        text-align: right;\n",
              "    }\n",
              "</style>\n",
              "<table border=\"1\" class=\"dataframe\">\n",
              "  <thead>\n",
              "    <tr style=\"text-align: right;\">\n",
              "      <th></th>\n",
              "      <th>Actual</th>\n",
              "      <th>Predicted</th>\n",
              "    </tr>\n",
              "  </thead>\n",
              "  <tbody>\n",
              "    <tr>\n",
              "      <th>133</th>\n",
              "      <td>0.0</td>\n",
              "      <td>1.0</td>\n",
              "    </tr>\n",
              "    <tr>\n",
              "      <th>3955</th>\n",
              "      <td>0.0</td>\n",
              "      <td>1.0</td>\n",
              "    </tr>\n",
              "    <tr>\n",
              "      <th>6469</th>\n",
              "      <td>0.0</td>\n",
              "      <td>0.0</td>\n",
              "    </tr>\n",
              "    <tr>\n",
              "      <th>11220</th>\n",
              "      <td>0.0</td>\n",
              "      <td>0.0</td>\n",
              "    </tr>\n",
              "    <tr>\n",
              "      <th>343</th>\n",
              "      <td>1.0</td>\n",
              "      <td>0.0</td>\n",
              "    </tr>\n",
              "  </tbody>\n",
              "</table>\n",
              "</div>"
            ],
            "text/plain": [
              "       Actual  Predicted\n",
              "133       0.0        1.0\n",
              "3955      0.0        1.0\n",
              "6469      0.0        0.0\n",
              "11220     0.0        0.0\n",
              "343       1.0        0.0"
            ]
          },
          "metadata": {
            "tags": []
          },
          "execution_count": 21
        }
      ]
    },
    {
      "cell_type": "code",
      "metadata": {
        "colab": {
          "base_uri": "https://localhost:8080/"
        },
        "id": "77doIqYBz-LV",
        "outputId": "7a476c11-49c2-428e-f3dd-98c0c703ab79"
      },
      "source": [
        "# calculate regressor metrics MSE and RMSE for logistic regression model\n",
        "lr_mse = mean_squared_error(lr_true, lr_pred)\n",
        "lr_rmse = np.sqrt(mean_squared_error(lr_true, lr_pred))\n",
        "\n",
        "print(\"LR MSE:\", lr_mse)\n",
        "print(\"LR RMSE:\", lr_rmse)"
      ],
      "execution_count": null,
      "outputs": [
        {
          "output_type": "stream",
          "text": [
            "LR MSE: 0.41201716738197425\n",
            "LR RMSE: 0.6418856341919285\n"
          ],
          "name": "stdout"
        }
      ]
    },
    {
      "cell_type": "code",
      "metadata": {
        "colab": {
          "base_uri": "https://localhost:8080/"
        },
        "id": "8lWSaHAsSgfo",
        "outputId": "0cde4ef1-1d46-46bf-f4a9-83fa8dfaeda5"
      },
      "source": [
        "# K folds cross validation -- observe generalization error \n",
        "\n",
        "lr_model = LogisticRegression(penalty=\"l1\", solver=\"liblinear\", C=0.1, random_state=120)\n",
        "k_fold = KFold(n_splits=15)\n",
        "#Xsc =  StandardScaler().fit_transform(X_train)\n",
        "\n",
        "# collect the predicted y values and true y values of each test set\n",
        "predicteds=[]\n",
        "trueys=[]\n",
        "accuracy=[]\n",
        "for train_ind, test_ind in k_fold.split(X):\n",
        "  X_train, X_test = X.loc[train_ind], X.loc[test_ind]\n",
        "  y_train, y_test = y.loc[train_ind], y.loc[test_ind]\n",
        "  lr_model.fit(X_train, y_train)\n",
        "  predicteds.append(lr_model.predict(X_test))\n",
        "  trueys.append(y_test)\n",
        "  accuracy.append(lr_model.score(X_test, y_test))\n",
        "\n",
        "# flatten array to all the folds together\n",
        "predicteds = np.concatenate(predicteds)\n",
        "trueys = np.concatenate(trueys)\n",
        "# calculate average test accuracy from all k folds \n",
        "print(\"overall accuracy:\", accuracy_score(trueys,predicteds))\n",
        "print(\"15-folds accuracies:\\n\", accuracy)\n",
        "\n",
        "# calculate the average metrics from all k folds \n",
        "lr_metrics = calculate_metrics(trueys, predicteds)\n",
        "print(\"Logistic Regression Metrics:\\n\", lr_metrics)"
      ],
      "execution_count": null,
      "outputs": [
        {
          "output_type": "stream",
          "text": [
            "overall accuracy: 0.5240028100850831\n",
            "15-folds accuracies:\n",
            " [0.6093567251461989, 0.6381733021077284, 0.35714285714285715, 0.49414519906323184, 0.39344262295081966, 0.5058548009367682, 0.5819672131147541, 0.5023419203747073, 0.6838407494145199, 0.531615925058548, 0.4637002341920375, 0.6206088992974239, 0.4426229508196721, 0.6124121779859485, 0.42271662763466045]\n",
            "Logistic Regression Metrics:\n",
            " {'Accuracy': 0.524, 'Sensitivity': 0.48, 'Specificity': 0.565, 'Precision': 0.512, 'Recall': 0.48, 'F1 Score': 0.496}\n"
          ],
          "name": "stdout"
        }
      ]
    },
    {
      "cell_type": "markdown",
      "metadata": {
        "id": "LwWJRmvcnhHI"
      },
      "source": [
        "###**SVM**"
      ]
    },
    {
      "cell_type": "code",
      "metadata": {
        "id": "dhGIauSRPQgp"
      },
      "source": [
        "# first define our X and y\n",
        "X = df[features]\n",
        "y = df['Label']\n",
        "\n",
        "# split the data into training and testing sets \n",
        "X_train, X_test, y_train, y_test = train_test_split(X, y, test_size=0.2, random_state=0)"
      ],
      "execution_count": null,
      "outputs": []
    },
    {
      "cell_type": "code",
      "metadata": {
        "id": "wrLLAn45N_Kd",
        "colab": {
          "base_uri": "https://localhost:8080/"
        },
        "outputId": "e1d2c8b4-b8ef-4510-a243-8037aaef2895"
      },
      "source": [
        "# train the SVM model using 3 different kernels to determine the optimal kernel \n",
        "train_acc = []\n",
        "test_acc = []\n",
        "kernels = [\"rbf\", \"linear\", \"poly\"]\n",
        "for ind, kernel in enumerate(kernels):\n",
        "  # create and train the SVM model \n",
        "  svm_model = make_pipeline(StandardScaler(), SVC(C=1, gamma='auto', kernel=kernel))\n",
        "  svm_model.fit(X_train, y_train)\n",
        "  # store training accuracy for each model \n",
        "  train_acc.append(svm_model.score(X_train, y_train))\n",
        "  # calculate predictions and store testing accuracy for each model \n",
        "  svm_preds = svm_model.predict(X_test)\n",
        "  test_acc.append(accuracy_score(y_test, svm_preds)) \n",
        "  print(kernel, \"kernel: Train Set acc:\", train_acc[ind], \" Test Set acc:\", test_acc[ind])"
      ],
      "execution_count": null,
      "outputs": [
        {
          "output_type": "stream",
          "text": [
            "rbf kernel: Train Set acc: 0.7087236533957846  Test Set acc: 0.6808427623878268\n",
            "linear kernel: Train Set acc: 0.5990437158469946  Test Set acc: 0.5856418259851737\n",
            "poly kernel: Train Set acc: 0.6693013270882123  Test Set acc: 0.6453374951229028\n"
          ],
          "name": "stdout"
        }
      ]
    },
    {
      "cell_type": "markdown",
      "metadata": {
        "id": "WKQSzef43g80"
      },
      "source": [
        "Based off of the three models created with different kernels, the rbf kernel seems to perform the best, so that is the chosen optimal kernel."
      ]
    },
    {
      "cell_type": "code",
      "metadata": {
        "colab": {
          "base_uri": "https://localhost:8080/"
        },
        "id": "RZ7Itr8ICEX5",
        "outputId": "ef8a4f7b-de56-4d3b-906d-a35bae79c9c1"
      },
      "source": [
        "# train SVM model using 5 different C values to determine the optimal parameter \n",
        "train_acc = []\n",
        "test_acc = []\n",
        "C = [1, 10, 100, 1000, 10000, 100000]\n",
        "for ind, Cval in enumerate(C):\n",
        "  # create SVM model and train the model \n",
        "  svm_model = make_pipeline(StandardScaler(), SVC(C=Cval, gamma='auto', kernel=\"rbf\"))\n",
        "  svm_model.fit(X_train, y_train)\n",
        "  # store training accuracy for each model \n",
        "  train_acc.append(svm_model.score(X_train, y_train))\n",
        "  # calculate predictions and store testing accuracy for each model \n",
        "  svm_preds = svm_model.predict(X_test)\n",
        "  test_acc.append(accuracy_score(y_test, svm_preds)) \n",
        "  print(Cval, \"C: Train Set acc:\", train_acc[ind], \" Test Set acc:\", test_acc[ind])"
      ],
      "execution_count": null,
      "outputs": [
        {
          "output_type": "stream",
          "text": [
            "1 C: Train Set acc: 0.7087236533957846  Test Set acc: 0.6808427623878268\n",
            "10 C: Train Set acc: 0.7665886026541764  Test Set acc: 0.7171283651970347\n",
            "100 C: Train Set acc: 0.8282591725214676  Test Set acc: 0.7331252438548576\n",
            "1000 C: Train Set acc: 0.9016393442622951  Test Set acc: 0.760827155676941\n",
            "10000 C: Train Set acc: 0.9440866510538641  Test Set acc: 0.7737026921576278\n",
            "100000 C: Train Set acc: 0.9735558157689306  Test Set acc: 0.7577058134998049\n"
          ],
          "name": "stdout"
        }
      ]
    },
    {
      "cell_type": "markdown",
      "metadata": {
        "id": "PHd2Slpy3o3A"
      },
      "source": [
        "Since the accuracy after C = 1000 only slightly improves, in order to save computation time, the optimal C value chosen is 1000."
      ]
    },
    {
      "cell_type": "code",
      "metadata": {
        "colab": {
          "base_uri": "https://localhost:8080/"
        },
        "id": "aZiyc-U8nlwM",
        "outputId": "f22cc35d-d1ed-4187-e626-5afac2215bf3"
      },
      "source": [
        "# using optimal kernal - rbf and optimal C value - 1000, train the SVM model \n",
        "svm_model = make_pipeline(StandardScaler(), SVC(C=1000, gamma='auto', kernel=\"rbf\"))\n",
        "svm_model.fit(X_train, y_train)\n",
        "# calculate the training accuracy\n",
        "svm_train_acc = svm_model.score(X_train, y_train)\n",
        "print(\"Training Set accuracy\", svm_train_acc)\n",
        "\n",
        "# make predictions and calculate the testing accuracy\n",
        "svm_pred = svm_model.predict(X_test)\n",
        "svm_true = y_test\n",
        "svm_test_acc = accuracy_score(y_test, svm_pred)\n",
        "print(\"Test Set accuracy\", svm_test_acc)"
      ],
      "execution_count": null,
      "outputs": [
        {
          "output_type": "stream",
          "text": [
            "Training Set accuracy 0.9016393442622951\n",
            "Test Set accuracy 0.760827155676941\n"
          ],
          "name": "stdout"
        }
      ]
    },
    {
      "cell_type": "code",
      "metadata": {
        "colab": {
          "base_uri": "https://localhost:8080/",
          "height": 301
        },
        "id": "-Ar9zo8eBqEE",
        "outputId": "8e25aeb6-064f-4527-cebd-156d778fac87"
      },
      "source": [
        "# caclulate confusion matrix to visualize TP, FP, TN, FN rates \n",
        "plot_confusion_matrix(svm_model,X_test,y_test,normalize='true', display_labels=['Not Confused', 'Confused'])\n",
        "plt.grid(False)"
      ],
      "execution_count": null,
      "outputs": [
        {
          "output_type": "display_data",
          "data": {
            "image/png": "[encoded data removed]",
            "text/plain": [
              "<Figure size 432x288 with 2 Axes>"
            ]
          },
          "metadata": {
            "tags": [],
            "needs_background": "light"
          }
        }
      ]
    },
    {
      "cell_type": "code",
      "metadata": {
        "colab": {
          "base_uri": "https://localhost:8080/"
        },
        "id": "7PNywZodB1SJ",
        "outputId": "8ce66a77-52a3-40f7-886f-55419d70dbcc"
      },
      "source": [
        "# calculate metrics -- precision, recall, F1 score\n",
        "print(classification_report(svm_true, svm_pred, target_names = ['Not Confused', 'Confused']))"
      ],
      "execution_count": null,
      "outputs": [
        {
          "output_type": "stream",
          "text": [
            "              precision    recall  f1-score   support\n",
            "\n",
            "Not Confused       0.77      0.75      0.76      1278\n",
            "    Confused       0.76      0.77      0.76      1285\n",
            "\n",
            "    accuracy                           0.76      2563\n",
            "   macro avg       0.76      0.76      0.76      2563\n",
            "weighted avg       0.76      0.76      0.76      2563\n",
            "\n"
          ],
          "name": "stdout"
        }
      ]
    },
    {
      "cell_type": "code",
      "metadata": {
        "colab": {
          "base_uri": "https://localhost:8080/"
        },
        "id": "_9ChDI1IB2qB",
        "outputId": "4ed00c16-b7cb-4e70-803e-c4ae39a628e8"
      },
      "source": [
        "# calculate additional metrics -- accuracy, sensitivity \n",
        "svm_metrics = calculate_metrics(svm_true, svm_pred)\n",
        "print(\"SVM Metrics:\\n\", svm_metrics)"
      ],
      "execution_count": null,
      "outputs": [
        {
          "output_type": "stream",
          "text": [
            "SVM Metrics:\n",
            " {'Accuracy': 0.761, 'Sensitivity': 0.749, 'Specificity': 0.773, 'Precision': 0.766, 'Recall': 0.749, 'F1 Score': 0.757}\n"
          ],
          "name": "stdout"
        }
      ]
    },
    {
      "cell_type": "code",
      "metadata": {
        "colab": {
          "base_uri": "https://localhost:8080/",
          "height": 204
        },
        "id": "MiTC7xf8B24N",
        "outputId": "6ee20618-7d67-48c5-cbb4-a490ac823650"
      },
      "source": [
        "# results of SVM model actual vs predicteds\n",
        "result2 = pd.DataFrame({'Actual': svm_true, 'Predicted': svm_pred})\n",
        "result2.head()"
      ],
      "execution_count": null,
      "outputs": [
        {
          "output_type": "execute_result",
          "data": {
            "text/html": [
              "<div>\n",
              "<style scoped>\n",
              "    .dataframe tbody tr th:only-of-type {\n",
              "        vertical-align: middle;\n",
              "    }\n",
              "\n",
              "    .dataframe tbody tr th {\n",
              "        vertical-align: top;\n",
              "    }\n",
              "\n",
              "    .dataframe thead th {\n",
              "        text-align: right;\n",
              "    }\n",
              "</style>\n",
              "<table border=\"1\" class=\"dataframe\">\n",
              "  <thead>\n",
              "    <tr style=\"text-align: right;\">\n",
              "      <th></th>\n",
              "      <th>Actual</th>\n",
              "      <th>Predicted</th>\n",
              "    </tr>\n",
              "  </thead>\n",
              "  <tbody>\n",
              "    <tr>\n",
              "      <th>133</th>\n",
              "      <td>0.0</td>\n",
              "      <td>0.0</td>\n",
              "    </tr>\n",
              "    <tr>\n",
              "      <th>3955</th>\n",
              "      <td>0.0</td>\n",
              "      <td>0.0</td>\n",
              "    </tr>\n",
              "    <tr>\n",
              "      <th>6469</th>\n",
              "      <td>0.0</td>\n",
              "      <td>0.0</td>\n",
              "    </tr>\n",
              "    <tr>\n",
              "      <th>11220</th>\n",
              "      <td>0.0</td>\n",
              "      <td>0.0</td>\n",
              "    </tr>\n",
              "    <tr>\n",
              "      <th>343</th>\n",
              "      <td>1.0</td>\n",
              "      <td>0.0</td>\n",
              "    </tr>\n",
              "  </tbody>\n",
              "</table>\n",
              "</div>"
            ],
            "text/plain": [
              "       Actual  Predicted\n",
              "133       0.0        0.0\n",
              "3955      0.0        0.0\n",
              "6469      0.0        0.0\n",
              "11220     0.0        0.0\n",
              "343       1.0        0.0"
            ]
          },
          "metadata": {
            "tags": []
          },
          "execution_count": 30
        }
      ]
    },
    {
      "cell_type": "code",
      "metadata": {
        "colab": {
          "base_uri": "https://localhost:8080/"
        },
        "id": "0ftgg7K_B3GI",
        "outputId": "5e6455b1-5cdc-4249-b679-53a60ee5c152"
      },
      "source": [
        "# calculate regressor metrics MSE and RMSE for SVM model\n",
        "svm_mse = mean_squared_error(svm_true, svm_pred)\n",
        "svm_rmse = np.sqrt(mean_squared_error(svm_true, svm_pred))\n",
        "\n",
        "print(\"SVM MSE:\", svm_mse)\n",
        "print(\"SVM RMSE:\", svm_rmse)"
      ],
      "execution_count": null,
      "outputs": [
        {
          "output_type": "stream",
          "text": [
            "SVM MSE: 0.2391728443230589\n",
            "SVM RMSE: 0.4890530076822541\n"
          ],
          "name": "stdout"
        }
      ]
    },
    {
      "cell_type": "code",
      "metadata": {
        "colab": {
          "base_uri": "https://localhost:8080/"
        },
        "id": "4cjRUIBeB3Yh",
        "outputId": "c864915a-30f3-436f-a585-f2ee71f2148d"
      },
      "source": [
        "# K folds cross validation -- observe generalization error \n",
        "k_fold = KFold(n_splits=5)\n",
        "\n",
        "# collect the predicted y values and true y values of each hold out set\n",
        "predicteds=[]\n",
        "trueys=[]\n",
        "accuracy=[]\n",
        "for train_ind, test_ind in k_fold.split(X):\n",
        "  X_train, X_test = X.loc[train_ind], X.loc[test_ind]\n",
        "  y_train, y_test = y.loc[train_ind], y.loc[test_ind]\n",
        "  svm_model.fit(X_train, y_train)\n",
        "  predicteds.append(svm_model.predict(X_test))\n",
        "  trueys.append(y_test)\n",
        "  accuracy.append(svm_model.score(X_test, y_test))\n",
        "\n",
        "# flatten array to all the folds together\n",
        "predicteds = np.concatenate(predicteds)\n",
        "trueys = np.concatenate(trueys)\n",
        "# calculate average test accuracy from all k folds \n",
        "print(\"overall accuracy:\", accuracy_score(trueys,predicteds))\n",
        "print(\"5-folds accuracies:\\n\", accuracy)\n",
        "\n",
        "# calculate the average metrics from all k folds \n",
        "svm_metrics = calculate_metrics(trueys, predicteds)\n",
        "print(\"SVM Metrics:\\n\", svm_metrics)"
      ],
      "execution_count": null,
      "outputs": [
        {
          "output_type": "stream",
          "text": [
            "overall accuracy: 0.5061275466396066\n",
            "5-folds accuracies:\n",
            " [0.4701521654311354, 0.4672131147540984, 0.5663544106167057, 0.5386416861826698, 0.4882903981264637]\n",
            "SVM Metrics:\n",
            " {'Accuracy': 0.506, 'Sensitivity': 0.474, 'Specificity': 0.537, 'Precision': 0.493, 'Recall': 0.474, 'F1 Score': 0.483}\n"
          ],
          "name": "stdout"
        }
      ]
    },
    {
      "cell_type": "markdown",
      "metadata": {
        "id": "I-btkFehFmD-"
      },
      "source": [
        "### **K-Nearest Neighbors**"
      ]
    },
    {
      "cell_type": "code",
      "metadata": {
        "id": "0ZTAaBvfPUrq"
      },
      "source": [
        "# first define our X and y\n",
        "X = df[features]\n",
        "y = df['Label']\n",
        "\n",
        "# split the data into training and testing sets \n",
        "X_train, X_test, y_train, y_test = train_test_split(X, y, test_size=0.2, random_state=0)"
      ],
      "execution_count": null,
      "outputs": []
    },
    {
      "cell_type": "code",
      "metadata": {
        "id": "AYIj4bnZShCr",
        "colab": {
          "base_uri": "https://localhost:8080/"
        },
        "outputId": "5a78556d-f796-4d53-d910-207bd976c1f5"
      },
      "source": [
        "# train model with 7 different k neighbors to determine the optimal k value \n",
        "neighbors = [3, 5, 7, 9, 11, 13, 15]\n",
        "knn_predicteds=[]\n",
        "\n",
        "for k in neighbors:\n",
        "  # create and train the KNN model \n",
        "  knn_model = KNeighborsClassifier(n_neighbors=k)\n",
        "  knn_model.fit(X_train,y_train)\n",
        "  # calculate the training accuracy\n",
        "  knn_train_acc = knn_model.score(X_train, y_train)\n",
        "  print(\"Training Set accuracy for k =\", k, \" \", knn_train_acc)\n",
        "\n",
        "  # make predictions and calculate the testing accuracy\n",
        "  knn_pred = knn_model.predict(X_test)\n",
        "  knn_true = y_test\n",
        "  knn_test_acc = accuracy_score(knn_true, knn_pred)\n",
        "  print(\"Test Set accuracy for k =\", k, \" \", knn_test_acc)\n",
        "  # add testing accuracy to eventually plot the accuracies for each k value \n",
        "  knn_predicteds.append(knn_test_acc)"
      ],
      "execution_count": null,
      "outputs": [
        {
          "output_type": "stream",
          "text": [
            "Training Set accuracy for k = 3   0.7729313036690086\n",
            "Test Set accuracy for k = 3   0.5528677331252438\n",
            "Training Set accuracy for k = 5   0.7157494145199064\n",
            "Test Set accuracy for k = 5   0.5567694108466641\n",
            "Training Set accuracy for k = 7   0.688231850117096\n",
            "Test Set accuracy for k = 7   0.5516972298088177\n",
            "Training Set accuracy for k = 9   0.669496487119438\n",
            "Test Set accuracy for k = 9   0.5665236051502146\n",
            "Training Set accuracy for k = 11   0.6597384855581577\n",
            "Test Set accuracy for k = 11   0.5704252828716349\n",
            "Training Set accuracy for k = 13   0.650663544106167\n",
            "Test Set accuracy for k = 13   0.5622317596566524\n",
            "Training Set accuracy for k = 15   0.6460772833723654\n",
            "Test Set accuracy for k = 15   0.5618415918845103\n"
          ],
          "name": "stdout"
        }
      ]
    },
    {
      "cell_type": "markdown",
      "metadata": {
        "id": "ZKBY0Jbq32Iy"
      },
      "source": [
        "Based off of the models created, it seems that the accuracy after k = 3 neighbors seems to be in the same range, so there is no added benefit to using a higher number of neighbors. To further visualize the accuracies, we plotted the values below. "
      ]
    },
    {
      "cell_type": "code",
      "metadata": {
        "colab": {
          "base_uri": "https://localhost:8080/",
          "height": 268
        },
        "id": "aTvH_0PlgmoG",
        "outputId": "90f3569f-fd0b-4bbe-efb0-e02ef342f4d1"
      },
      "source": [
        "# plot the test accuracies for each k value model to evaluate which model performs best \n",
        "plt.figure(figsize=(20,5))\n",
        "plt.plot(neighbors, knn_predicteds)\n",
        "plt.show()"
      ],
      "execution_count": null,
      "outputs": [
        {
          "output_type": "display_data",
          "data": {
            "image/png": "[encoded data removed]",
            "text/plain": [
              "<Figure size 1440x360 with 1 Axes>"
            ]
          },
          "metadata": {
            "tags": [],
            "needs_background": "light"
          }
        }
      ]
    },
    {
      "cell_type": "code",
      "metadata": {
        "colab": {
          "base_uri": "https://localhost:8080/"
        },
        "id": "muA3FXSmhBF4",
        "outputId": "134f1ccf-2e64-4eb6-b2ee-e303b5dbc60a"
      },
      "source": [
        "# since the accuracy after 11 neighbors does not improve drastically, stick with k = 11\n",
        "\n",
        "# create and train the KNN model \n",
        "knn_model = KNeighborsClassifier(n_neighbors=11)\n",
        "knn_model.fit(X_train, y_train)\n",
        "# calculate the training accuracy\n",
        "knn_train_acc = knn_model.score(X_train, y_train)\n",
        "print(\"Training Set accuracy for k = 11:\", knn_train_acc)\n",
        "\n",
        "# make predictions and calculate the testing accuracy\n",
        "knn_pred = knn_model.predict(X_test)\n",
        "knn_true = y_test\n",
        "knn_test_acc = accuracy_score(knn_true, knn_pred)\n",
        "print(\"Test Set accuracy for k = 11:\", knn_test_acc)"
      ],
      "execution_count": null,
      "outputs": [
        {
          "output_type": "stream",
          "text": [
            "Training Set accuracy for k = 11: 0.6597384855581577\n",
            "Test Set accuracy for k = 11: 0.5704252828716349\n"
          ],
          "name": "stdout"
        }
      ]
    },
    {
      "cell_type": "code",
      "metadata": {
        "colab": {
          "base_uri": "https://localhost:8080/",
          "height": 301
        },
        "id": "u02vQctKiWOK",
        "outputId": "dd5aac39-f41e-42a1-dae4-49aaf918bb6e"
      },
      "source": [
        "# caclulate confusion matrix to visualize TP, FP, TN, FN rates \n",
        "plot_confusion_matrix(knn_model,X_test,y_test,normalize='true', display_labels=['Not Confused', 'Confused'])\n",
        "plt.grid(False)"
      ],
      "execution_count": null,
      "outputs": [
        {
          "output_type": "display_data",
          "data": {
            "image/png": "[encoded data removed]",
            "text/plain": [
              "<Figure size 432x288 with 2 Axes>"
            ]
          },
          "metadata": {
            "tags": [],
            "needs_background": "light"
          }
        }
      ]
    },
    {
      "cell_type": "code",
      "metadata": {
        "colab": {
          "base_uri": "https://localhost:8080/"
        },
        "id": "ZvzOH9X8iqtr",
        "outputId": "55fbd82e-83c2-4147-c46b-8b21cd2d0880"
      },
      "source": [
        "# calculate metrics -- precision, recall, F1 score\n",
        "print(classification_report(knn_true, knn_pred, target_names = ['Not Confused', 'Confused']))"
      ],
      "execution_count": null,
      "outputs": [
        {
          "output_type": "stream",
          "text": [
            "              precision    recall  f1-score   support\n",
            "\n",
            "Not Confused       0.57      0.53      0.55      1278\n",
            "    Confused       0.57      0.61      0.59      1285\n",
            "\n",
            "    accuracy                           0.57      2563\n",
            "   macro avg       0.57      0.57      0.57      2563\n",
            "weighted avg       0.57      0.57      0.57      2563\n",
            "\n"
          ],
          "name": "stdout"
        }
      ]
    },
    {
      "cell_type": "code",
      "metadata": {
        "colab": {
          "base_uri": "https://localhost:8080/"
        },
        "id": "jPeHEY1hi2mU",
        "outputId": "e56d2b1a-8aaa-417a-9d8f-c182ce900858"
      },
      "source": [
        "# calculate additional metrics -- accuracy, sensitivity \n",
        "knn_metrics = calculate_metrics(knn_true, knn_pred)\n",
        "print(\"KNN Metrics:\\n\", knn_metrics)"
      ],
      "execution_count": null,
      "outputs": [
        {
          "output_type": "stream",
          "text": [
            "KNN Metrics:\n",
            " {'Accuracy': 0.57, 'Sensitivity': 0.533, 'Specificity': 0.608, 'Precision': 0.575, 'Recall': 0.533, 'F1 Score': 0.553}\n"
          ],
          "name": "stdout"
        }
      ]
    },
    {
      "cell_type": "code",
      "metadata": {
        "colab": {
          "base_uri": "https://localhost:8080/",
          "height": 204
        },
        "id": "ZuWxHIzaxBKJ",
        "outputId": "c4371030-5c38-4dda-c2aa-13b80853ded7"
      },
      "source": [
        "# results of KNN model actual vs predicteds\n",
        "result3 = pd.DataFrame({'Actual': knn_true, 'Predicted': knn_pred})\n",
        "result3.head()"
      ],
      "execution_count": null,
      "outputs": [
        {
          "output_type": "execute_result",
          "data": {
            "text/html": [
              "<div>\n",
              "<style scoped>\n",
              "    .dataframe tbody tr th:only-of-type {\n",
              "        vertical-align: middle;\n",
              "    }\n",
              "\n",
              "    .dataframe tbody tr th {\n",
              "        vertical-align: top;\n",
              "    }\n",
              "\n",
              "    .dataframe thead th {\n",
              "        text-align: right;\n",
              "    }\n",
              "</style>\n",
              "<table border=\"1\" class=\"dataframe\">\n",
              "  <thead>\n",
              "    <tr style=\"text-align: right;\">\n",
              "      <th></th>\n",
              "      <th>Actual</th>\n",
              "      <th>Predicted</th>\n",
              "    </tr>\n",
              "  </thead>\n",
              "  <tbody>\n",
              "    <tr>\n",
              "      <th>133</th>\n",
              "      <td>0.0</td>\n",
              "      <td>1.0</td>\n",
              "    </tr>\n",
              "    <tr>\n",
              "      <th>3955</th>\n",
              "      <td>0.0</td>\n",
              "      <td>1.0</td>\n",
              "    </tr>\n",
              "    <tr>\n",
              "      <th>6469</th>\n",
              "      <td>0.0</td>\n",
              "      <td>0.0</td>\n",
              "    </tr>\n",
              "    <tr>\n",
              "      <th>11220</th>\n",
              "      <td>0.0</td>\n",
              "      <td>0.0</td>\n",
              "    </tr>\n",
              "    <tr>\n",
              "      <th>343</th>\n",
              "      <td>1.0</td>\n",
              "      <td>0.0</td>\n",
              "    </tr>\n",
              "  </tbody>\n",
              "</table>\n",
              "</div>"
            ],
            "text/plain": [
              "       Actual  Predicted\n",
              "133       0.0        1.0\n",
              "3955      0.0        1.0\n",
              "6469      0.0        0.0\n",
              "11220     0.0        0.0\n",
              "343       1.0        0.0"
            ]
          },
          "metadata": {
            "tags": []
          },
          "execution_count": 39
        }
      ]
    },
    {
      "cell_type": "code",
      "metadata": {
        "colab": {
          "base_uri": "https://localhost:8080/"
        },
        "id": "KlopOxvP1A2U",
        "outputId": "14154a18-f322-4b6e-fd47-6ead65a31231"
      },
      "source": [
        "# calculate regressor metrics MSE and RMSE for KNN model\n",
        "knn_mse = mean_squared_error(knn_true, knn_pred)\n",
        "knn_rmse = np.sqrt(mean_squared_error(knn_true, knn_pred))\n",
        "\n",
        "print(\"KNN MSE:\", knn_mse)\n",
        "print(\"KNN RMSE:\", knn_rmse)"
      ],
      "execution_count": null,
      "outputs": [
        {
          "output_type": "stream",
          "text": [
            "KNN MSE: 0.4295747171283652\n",
            "KNN RMSE: 0.6554194970615119\n"
          ],
          "name": "stdout"
        }
      ]
    },
    {
      "cell_type": "code",
      "metadata": {
        "colab": {
          "base_uri": "https://localhost:8080/"
        },
        "id": "v5W5HUIjjH5S",
        "outputId": "9310caa8-6366-4627-c304-7f58bc25de4a"
      },
      "source": [
        "# K folds cross validation -- observe generalization error \n",
        "k_fold = KFold(n_splits=15)\n",
        "\n",
        "# collect the predicted y values and true y values of each hold out set\n",
        "predicteds=[]\n",
        "trueys=[]\n",
        "accuracy=[]\n",
        "for train_ind, test_ind in k_fold.split(X):\n",
        "  X_train, X_test = X.loc[train_ind], X.loc[test_ind]\n",
        "  y_train, y_test = y.loc[train_ind], y.loc[test_ind]\n",
        "  knn_model.fit(X_train, y_train)\n",
        "  predicteds.append(knn_model.predict(X_test))\n",
        "  trueys.append(y_test)\n",
        "  accuracy.append(knn_model.score(X_test, y_test))\n",
        "\n",
        "# flatten array to all the folds together\n",
        "predicteds = np.concatenate(predicteds)\n",
        "trueys = np.concatenate(trueys)\n",
        "# calculate average test accuracy from all k folds \n",
        "print(\"overall accuracy:\", accuracy_score(trueys,predicteds))\n",
        "print(\"15-folds accuracies:\\n\", accuracy)\n",
        "\n",
        "# calculate the average metrics from all k folds \n",
        "knn_metrics = calculate_metrics(trueys, predicteds)\n",
        "print(\"KNN Metrics:\\n\", knn_metrics)"
      ],
      "execution_count": null,
      "outputs": [
        {
          "output_type": "stream",
          "text": [
            "overall accuracy: 0.5269690110061666\n",
            "15-folds accuracies:\n",
            " [0.5614035087719298, 0.5339578454332553, 0.4859484777517564, 0.49765807962529274, 0.49882903981264637, 0.5655737704918032, 0.5011709601873536, 0.5245901639344263, 0.5761124121779859, 0.48360655737704916, 0.49414519906323184, 0.5538641686182669, 0.5, 0.5281030444964872, 0.5995316159250585]\n",
            "KNN Metrics:\n",
            " {'Accuracy': 0.527, 'Sensitivity': 0.493, 'Specificity': 0.559, 'Precision': 0.515, 'Recall': 0.493, 'F1 Score': 0.504}\n"
          ],
          "name": "stdout"
        }
      ]
    },
    {
      "cell_type": "markdown",
      "metadata": {
        "id": "KVM5W240uGCT"
      },
      "source": [
        "###**Random Forests**"
      ]
    },
    {
      "cell_type": "code",
      "metadata": {
        "id": "vTKprR0DPX0D"
      },
      "source": [
        "# first define our X and y\n",
        "X = df[features]\n",
        "y = df['Label']\n",
        "\n",
        "# split the data into training and testing sets \n",
        "X_train, X_test, y_train, y_test = train_test_split(X, y, test_size=0.2, random_state=0)"
      ],
      "execution_count": null,
      "outputs": []
    },
    {
      "cell_type": "code",
      "metadata": {
        "colab": {
          "base_uri": "https://localhost:8080/"
        },
        "id": "QXo_F9AIpCQD",
        "outputId": "131ec89b-1c7d-41c1-f5dc-49112c3ddc64"
      },
      "source": [
        "# create and train the Random Forests model \n",
        "# also trained with n_estimators 200, 500, and 2000, but 1000 was the optimal value \n",
        "rf_model = RandomForestClassifier(n_estimators=1000, max_depth=2, random_state=13)\n",
        "rf_model.fit(X_train,y_train)\n",
        "\n",
        "# calculate the training accuracy\n",
        "rf_train_acc = rf_model.score(X_train, y_train)\n",
        "print(\"Training Set accuracy:\", lr_train_acc)\n",
        "\n",
        "# make predictions and calculate the testing accuracy\n",
        "rf_pred = (rf_model.predict(X_test))\n",
        "rf_true = y_test\n",
        "rf_test_acc = accuracy_score(rf_true, rf_pred)\n",
        "print(\"Test Set accuracy:\", rf_test_acc)"
      ],
      "execution_count": null,
      "outputs": [
        {
          "output_type": "stream",
          "text": [
            "Training Set accuracy: 0.6052888368462139\n",
            "Test Set accuracy: 0.6215372610222396\n"
          ],
          "name": "stdout"
        }
      ]
    },
    {
      "cell_type": "code",
      "metadata": {
        "colab": {
          "base_uri": "https://localhost:8080/",
          "height": 301
        },
        "id": "JNcLqfaJpCDz",
        "outputId": "232f70c3-c243-4419-becc-15cd56686c38"
      },
      "source": [
        "# caclulate confusion matrix to visualize TP, FP, TN, FN rates \n",
        "plot_confusion_matrix(rf_model,X_test,y_test,normalize='true', display_labels=['Not Confused', 'Confused'])\n",
        "plt.grid(False)"
      ],
      "execution_count": null,
      "outputs": [
        {
          "output_type": "display_data",
          "data": {
            "image/png": "[encoded data removed]",
            "text/plain": [
              "<Figure size 432x288 with 2 Axes>"
            ]
          },
          "metadata": {
            "tags": [],
            "needs_background": "light"
          }
        }
      ]
    },
    {
      "cell_type": "code",
      "metadata": {
        "colab": {
          "base_uri": "https://localhost:8080/"
        },
        "id": "ljGGLmj4pBsi",
        "outputId": "0e6794ce-d1b7-47cc-f4e9-10922ce81622"
      },
      "source": [
        "# calculate metrics -- precision, recall, F1 score\n",
        "print(classification_report(rf_true, rf_pred, target_names = ['Not Confused', 'Confused']))"
      ],
      "execution_count": null,
      "outputs": [
        {
          "output_type": "stream",
          "text": [
            "              precision    recall  f1-score   support\n",
            "\n",
            "Not Confused       0.65      0.53      0.58      1278\n",
            "    Confused       0.60      0.72      0.66      1285\n",
            "\n",
            "    accuracy                           0.62      2563\n",
            "   macro avg       0.63      0.62      0.62      2563\n",
            "weighted avg       0.63      0.62      0.62      2563\n",
            "\n"
          ],
          "name": "stdout"
        }
      ]
    },
    {
      "cell_type": "code",
      "metadata": {
        "colab": {
          "base_uri": "https://localhost:8080/"
        },
        "id": "z1hVTLIYnetd",
        "outputId": "264e0c1f-a528-4a66-f896-e70701bb10d6"
      },
      "source": [
        "# calculate additional metrics -- accuracy, sensitivity \n",
        "rf_metrics = calculate_metrics(rf_true, rf_pred,)\n",
        "print(\"Random Forest Metrics:\\n\", rf_metrics)"
      ],
      "execution_count": null,
      "outputs": [
        {
          "output_type": "stream",
          "text": [
            "Random Forest Metrics:\n",
            " {'Accuracy': 0.622, 'Sensitivity': 0.526, 'Specificity': 0.717, 'Precision': 0.649, 'Recall': 0.526, 'F1 Score': 0.581}\n"
          ],
          "name": "stdout"
        }
      ]
    },
    {
      "cell_type": "code",
      "metadata": {
        "colab": {
          "base_uri": "https://localhost:8080/",
          "height": 204
        },
        "id": "1MwVImEpxf-5",
        "outputId": "0cdaccdc-2368-4a03-a92d-420f11fa71cc"
      },
      "source": [
        "# results of Random Forests model actual vs predicteds\n",
        "result4 = pd.DataFrame({'Actual': rf_true, 'Predicted': rf_pred})\n",
        "result4.head()"
      ],
      "execution_count": null,
      "outputs": [
        {
          "output_type": "execute_result",
          "data": {
            "text/html": [
              "<div>\n",
              "<style scoped>\n",
              "    .dataframe tbody tr th:only-of-type {\n",
              "        vertical-align: middle;\n",
              "    }\n",
              "\n",
              "    .dataframe tbody tr th {\n",
              "        vertical-align: top;\n",
              "    }\n",
              "\n",
              "    .dataframe thead th {\n",
              "        text-align: right;\n",
              "    }\n",
              "</style>\n",
              "<table border=\"1\" class=\"dataframe\">\n",
              "  <thead>\n",
              "    <tr style=\"text-align: right;\">\n",
              "      <th></th>\n",
              "      <th>Actual</th>\n",
              "      <th>Predicted</th>\n",
              "    </tr>\n",
              "  </thead>\n",
              "  <tbody>\n",
              "    <tr>\n",
              "      <th>133</th>\n",
              "      <td>0.0</td>\n",
              "      <td>1.0</td>\n",
              "    </tr>\n",
              "    <tr>\n",
              "      <th>3955</th>\n",
              "      <td>0.0</td>\n",
              "      <td>1.0</td>\n",
              "    </tr>\n",
              "    <tr>\n",
              "      <th>6469</th>\n",
              "      <td>0.0</td>\n",
              "      <td>0.0</td>\n",
              "    </tr>\n",
              "    <tr>\n",
              "      <th>11220</th>\n",
              "      <td>0.0</td>\n",
              "      <td>0.0</td>\n",
              "    </tr>\n",
              "    <tr>\n",
              "      <th>343</th>\n",
              "      <td>1.0</td>\n",
              "      <td>1.0</td>\n",
              "    </tr>\n",
              "  </tbody>\n",
              "</table>\n",
              "</div>"
            ],
            "text/plain": [
              "       Actual  Predicted\n",
              "133       0.0        1.0\n",
              "3955      0.0        1.0\n",
              "6469      0.0        0.0\n",
              "11220     0.0        0.0\n",
              "343       1.0        1.0"
            ]
          },
          "metadata": {
            "tags": []
          },
          "execution_count": 46
        }
      ]
    },
    {
      "cell_type": "code",
      "metadata": {
        "colab": {
          "base_uri": "https://localhost:8080/"
        },
        "id": "ScpgXwfG1VDX",
        "outputId": "9901d7a9-1c9c-49b2-9ce9-fc2474878073"
      },
      "source": [
        "# calculate regressor metrics MSE and RMSE for Random Forests model\n",
        "rf_mse = mean_squared_error(rf_true, rf_pred)\n",
        "rf_rmse = np.sqrt(mean_squared_error(rf_true, rf_pred))\n",
        "\n",
        "print(\"RF MSE:\", rf_mse)\n",
        "print(\"RF RMSE:\", rf_rmse)"
      ],
      "execution_count": null,
      "outputs": [
        {
          "output_type": "stream",
          "text": [
            "RF MSE: 0.37846273897776045\n",
            "RF RMSE: 0.6151932533584552\n"
          ],
          "name": "stdout"
        }
      ]
    },
    {
      "cell_type": "code",
      "metadata": {
        "colab": {
          "base_uri": "https://localhost:8080/"
        },
        "id": "utJ_5vPlu9my",
        "outputId": "f416989e-3573-47e9-ab12-b6baa32de241"
      },
      "source": [
        "# K folds cross validation -- observe generalization error \n",
        "k_fold = KFold(n_splits=5)\n",
        "\n",
        "# collect the predicted y values and true y values of each hold out set\n",
        "predicteds=[]\n",
        "trueys=[]\n",
        "accuracy=[]\n",
        "for train_ind, test_ind in k_fold.split(X):\n",
        "  X_train, X_test = X.loc[train_ind], X.loc[test_ind]\n",
        "  y_train, y_test = y.loc[train_ind], y.loc[test_ind]\n",
        "  rf_model.fit(X_train, y_train)\n",
        "  predicteds.append(rf_model.predict(X_test))\n",
        "  trueys.append(y_test)\n",
        "  accuracy.append(rf_model.score(X_test, y_test))\n",
        "\n",
        "# flatten array to all the folds together\n",
        "predicteds = np.concatenate(predicteds)\n",
        "trueys = np.concatenate(trueys)\n",
        "# calculate average test accuracy from all k folds \n",
        "print(\"overall accuracy:\", accuracy_score(trueys,predicteds))\n",
        "print(\"5-folds accuracies:\\n\", accuracy)\n",
        "\n",
        "# calculate the average metrics from all k folds \n",
        "rf_metrics = calculate_metrics(trueys, predicteds)\n",
        "print(\"Random Forest Metrics:\\n\", rf_metrics)"
      ],
      "execution_count": null,
      "outputs": [
        {
          "output_type": "stream",
          "text": [
            "overall accuracy: 0.5297790960892983\n",
            "5-folds accuracies:\n",
            " [0.5200936402653141, 0.4957064793130367, 0.5850897736143638, 0.5612802498048399, 0.48672911787665885]\n",
            "Random Forest Metrics:\n",
            " {'Accuracy': 0.53, 'Sensitivity': 0.471, 'Specificity': 0.586, 'Precision': 0.519, 'Recall': 0.471, 'F1 Score': 0.494}\n"
          ],
          "name": "stdout"
        }
      ]
    },
    {
      "cell_type": "markdown",
      "metadata": {
        "id": "_85umDTIlLJh"
      },
      "source": [
        "###**PCA**"
      ]
    },
    {
      "cell_type": "code",
      "metadata": {
        "id": "zDmOWyWLPWtM"
      },
      "source": [
        "# first define our X and y\n",
        "X = df[features]\n",
        "y = df['Label']\n",
        "\n",
        "# split the data into training and testing sets \n",
        "X_train, X_test, y_train, y_test = train_test_split(X, y, test_size=0.2, random_state=0)"
      ],
      "execution_count": null,
      "outputs": []
    },
    {
      "cell_type": "code",
      "metadata": {
        "id": "iwTmBmVujmdB"
      },
      "source": [
        "# create and train the PCA model \n",
        "pca = PCA(n_components=2)\n",
        "pca_model = pca.fit_transform(X_train)"
      ],
      "execution_count": null,
      "outputs": []
    },
    {
      "cell_type": "code",
      "metadata": {
        "colab": {
          "base_uri": "https://localhost:8080/",
          "height": 444
        },
        "id": "T3hnNVcynQgJ",
        "outputId": "25318036-a84a-4828-db74-f0a136dd58d1"
      },
      "source": [
        "# visualize the data with reduced dimensions \n",
        "plt.figure(figsize=(8,6))\n",
        "plt.scatter(pca_model[:,0],pca_model[:,1], c=y_train, cmap='winter')\n",
        "plt.xlabel('First Principle Component')\n",
        "plt.ylabel('Second Principle Component')"
      ],
      "execution_count": null,
      "outputs": [
        {
          "output_type": "execute_result",
          "data": {
            "text/plain": [
              "Text(0, 0.5, 'Second Principle Component')"
            ]
          },
          "metadata": {
            "tags": []
          },
          "execution_count": 51
        },
        {
          "output_type": "display_data",
          "data": {
            "image/png": "[encoded data removed]",
            "text/plain": [
              "<Figure size 576x432 with 1 Axes>"
            ]
          },
          "metadata": {
            "tags": [],
            "needs_background": "light"
          }
        }
      ]
    },
    {
      "cell_type": "markdown",
      "metadata": {
        "id": "YnsgS1UPwbwX"
      },
      "source": [
        "##**Model Comparison**"
      ]
    },
    {
      "cell_type": "code",
      "metadata": {
        "colab": {
          "base_uri": "https://localhost:8080/",
          "height": 321
        },
        "id": "3r2XYrj-vSWN",
        "outputId": "3ec6d580-0f03-41f0-cea5-da4629e23391"
      },
      "source": [
        "# plot and visually compare the accuracies for each model\n",
        "labels = [\"Logistic Reg\", \"SVM\", \"KNN\", \"Random Forests\"]\n",
        "accuracies = np.round([lr_test_acc, svm_test_acc, knn_test_acc, rf_test_acc], 4)\n",
        "plt.bar(labels, accuracies, color=\"mediumpurple\", width = 0.4)\n",
        "plt.xlabel(\"Models\")\n",
        "plt.ylabel(\"Accuracies\")\n",
        "plt.title(\"Model's Accuracies\")\n",
        "\n",
        "# add the actual values on top of the bars \n",
        "for i, v in enumerate(accuracies):\n",
        "  plt.text(accuracies[i] + (i - 0.87), v + 0.015, str(v), size=12)\n",
        "plt.show()"
      ],
      "execution_count": null,
      "outputs": [
        {
          "output_type": "display_data",
          "data": {
            "image/png": "[encoded data removed]",
            "text/plain": [
              "<Figure size 432x288 with 1 Axes>"
            ]
          },
          "metadata": {
            "tags": [],
            "needs_background": "light"
          }
        }
      ]
    },
    {
      "cell_type": "code",
      "metadata": {
        "colab": {
          "base_uri": "https://localhost:8080/",
          "height": 547
        },
        "id": "KQwon3s1x5Zy",
        "outputId": "de291852-ce0c-4871-9e73-598856357637"
      },
      "source": [
        "# plot and visually compare the MSE and RMSE for each model\n",
        "labels = [\"Logistic Reg\", \"SVM\", \"KNN\", \"Random Forests\"]\n",
        "MSE = np.round([lr_mse, svm_mse, knn_mse, rf_mse], 4)\n",
        "RMSE = np.round([lr_rmse, svm_rmse, knn_rmse, rf_rmse], 4)\n",
        "ind = np.arange(4)\n",
        "width = 0.3\n",
        "\n",
        "plt.figure(figsize=(15, 8))\n",
        "plt.bar(ind, MSE, width, label = \"MSE\", color=\"cadetblue\")\n",
        "plt.bar(ind + width, RMSE, width, label = \"RMSE\", color=\"rosybrown\")\n",
        "\n",
        "plt.xlabel(\"Models\", labelpad=13)\n",
        "plt.ylabel(\"Metrics\", labelpad=13)\n",
        "plt.xticks(ind + width/2, (labels))\n",
        "plt.xticks(ha= \"center\")\n",
        "plt.title(\"Model's Metrics\")\n",
        "plt.legend(loc=\"upper left\")\n",
        "\n",
        "# add the actual values on top of the bars \n",
        "for i, v in enumerate(MSE):\n",
        "  # evenly space out SVM\n",
        "  if i == 1:\n",
        "    plt.text(MSE[i] + (i - 0.33), v + 0.015, str(v), size=12)\n",
        "  # evenly space out the other 3 models\n",
        "  else:\n",
        "    plt.text(MSE[i] + (i - 0.5), v + 0.015, str(v), size=12)\n",
        "for i, v in enumerate(RMSE):\n",
        "  # evenly space out SVM\n",
        "  if i == 1:\n",
        "    plt.text(RMSE[i] + (i - 0.3), v + 0.015, str(v), size=12)\n",
        "  # evenly space out the other 3 models\n",
        "  else:\n",
        "      plt.text(RMSE[i] + (i - 0.43), v + 0.015, str(v), size=12)\n",
        "plt.show()"
      ],
      "execution_count": null,
      "outputs": [
        {
          "output_type": "display_data",
          "data": {
            "image/png": "[encoded data removed]",
            "text/plain": [
              "<Figure size 1080x576 with 1 Axes>"
            ]
          },
          "metadata": {
            "tags": [],
            "needs_background": "light"
          }
        }
      ]
    },
    {
      "cell_type": "markdown",
      "metadata": {
        "id": "s9p1Ci3GgjYu"
      },
      "source": [
        "##**New Train/Test split training**"
      ]
    },
    {
      "cell_type": "markdown",
      "metadata": {
        "id": "-TbTQzOdgY35"
      },
      "source": [
        "In this next section, after discussion in class and further clarification with the professor, we came to an understanding that a more appropriate way to split the training and test data is not to do random splits but instead to do an 80/20 train test split of each partiicpant's data. To briefly exlpore this, we focus on one subject and split the samples only from this subject in an 80/20 training test split. We then perform Logistic Regression, KNN, SVM, and Random Forest again using this newly split data just to get a broad idea of how this newly split data would have performed with these algorithms."
      ]
    },
    {
      "cell_type": "code",
      "metadata": {
        "colab": {
          "base_uri": "https://localhost:8080/"
        },
        "id": "6grJSt_wghun",
        "outputId": "961eefe5-b194-4491-a356-a11d52b9ab94"
      },
      "source": [
        "print(\"Subject ID count:\\n\", df[\"SubjectID\"].value_counts())"
      ],
      "execution_count": null,
      "outputs": [
        {
          "output_type": "stream",
          "text": [
            "Subject ID count:\n",
            " 3    1314\n",
            "1    1301\n",
            "4    1295\n",
            "2    1284\n",
            "8    1282\n",
            "7    1276\n",
            "6    1275\n",
            "5    1262\n",
            "9    1261\n",
            "0    1261\n",
            "Name: SubjectID, dtype: int64\n"
          ],
          "name": "stdout"
        }
      ]
    },
    {
      "cell_type": "code",
      "metadata": {
        "colab": {
          "base_uri": "https://localhost:8080/"
        },
        "id": "4GKYXFKkgxF_",
        "outputId": "a1f0cf4e-c1e9-4802-964c-f60c31226ad2"
      },
      "source": [
        "# train model on only one subject's data \n",
        "df_subject1 = df.loc[df['SubjectID'].isin(range(0,1))]\n",
        "df_subject1.shape"
      ],
      "execution_count": null,
      "outputs": [
        {
          "output_type": "execute_result",
          "data": {
            "text/plain": [
              "(1261, 16)"
            ]
          },
          "metadata": {
            "tags": []
          },
          "execution_count": 55
        }
      ]
    },
    {
      "cell_type": "code",
      "metadata": {
        "colab": {
          "base_uri": "https://localhost:8080/"
        },
        "id": "4e55JDwcgxTx",
        "outputId": "d7cbca07-a363-4c31-fb6b-da5f368623b2"
      },
      "source": [
        "# 80/20 train test split -- 1008 train, 253 test \n",
        "df_train = df_subject1.iloc[:1008, :]\n",
        "print(\"Train data shape:\", df_train.shape)\n",
        "\n",
        "df_test = df_subject1.iloc[1008:, :]\n",
        "print(\"Test data shape:\", df_test.shape)"
      ],
      "execution_count": null,
      "outputs": [
        {
          "output_type": "stream",
          "text": [
            "Train data shape: (1008, 16)\n",
            "Test data shape: (253, 16)\n"
          ],
          "name": "stdout"
        }
      ]
    },
    {
      "cell_type": "code",
      "metadata": {
        "id": "nXDXDujjgxhF"
      },
      "source": [
        "# split the data into training and testing sets \n",
        "X_train = df_train[features]\n",
        "y_train = df_train[\"Label\"]\n",
        "\n",
        "X_test = df_test[features]\n",
        "y_test = df_test[\"Label\"]"
      ],
      "execution_count": null,
      "outputs": []
    },
    {
      "cell_type": "markdown",
      "metadata": {
        "id": "XCmlGGyKhtWZ"
      },
      "source": [
        "Logistic Regression Model"
      ]
    },
    {
      "cell_type": "code",
      "metadata": {
        "colab": {
          "base_uri": "https://localhost:8080/"
        },
        "id": "SB57SEk-gx52",
        "outputId": "df26bf3f-3d54-447c-8398-dd507f846437"
      },
      "source": [
        "# create and train the logistic regression model \n",
        "lr_model = LogisticRegression(penalty=\"l1\", solver=\"liblinear\", C=0.1, random_state=120)\n",
        "lr_model.fit(X_train, y_train)\n",
        "\n",
        "# calculate training set accuracy \n",
        "lr_train_acc = lr_model.score(X_train, y_train)\n",
        "print(\"Training Set accuracy:\", lr_train_acc)\n",
        "\n",
        "# make predictions\n",
        "lr_pred = (lr_model.predict(X_test))\n",
        "lr_true = y_test\n",
        "# calculate testing set accuracy \n",
        "lr_test_acc = accuracy_score(lr_true, lr_pred)\n",
        "print(\"Test Set accuracy:\", lr_test_acc)"
      ],
      "execution_count": null,
      "outputs": [
        {
          "output_type": "stream",
          "text": [
            "Training Set accuracy: 0.6438492063492064\n",
            "Test Set accuracy: 0.49407114624505927\n"
          ],
          "name": "stdout"
        }
      ]
    },
    {
      "cell_type": "code",
      "metadata": {
        "colab": {
          "base_uri": "https://localhost:8080/",
          "height": 301
        },
        "id": "4DvLworsgyGt",
        "outputId": "3ba24a6f-a12a-42e1-be2e-e4514092fc78"
      },
      "source": [
        "# caclulate confusion matrix to visualize TP, FP, TN, FN rates \n",
        "plot_confusion_matrix(lr_model,X_test,y_test, normalize='true', display_labels=['Not Confused', 'Confused'])\n",
        "plt.grid(False)"
      ],
      "execution_count": null,
      "outputs": [
        {
          "output_type": "display_data",
          "data": {
            "image/png": "[encoded data removed]",
            "text/plain": [
              "<Figure size 432x288 with 2 Axes>"
            ]
          },
          "metadata": {
            "tags": [],
            "needs_background": "light"
          }
        }
      ]
    },
    {
      "cell_type": "code",
      "metadata": {
        "colab": {
          "base_uri": "https://localhost:8080/"
        },
        "id": "ipxpfFp2gyUb",
        "outputId": "27fe82ec-1c70-4994-ae6a-4dd4279743b1"
      },
      "source": [
        "# calculate additional metrics -- accuracy, sensitivity \n",
        "lr_metrics = calculate_metrics(lr_true, lr_pred)\n",
        "print(\"Logistic Regression Metrics:\\n\", lr_metrics)"
      ],
      "execution_count": null,
      "outputs": [
        {
          "output_type": "stream",
          "text": [
            "Logistic Regression Metrics:\n",
            " {'Accuracy': 0.494, 'Sensitivity': 0.473, 'Specificity': 0.516, 'Precision': 0.504, 'Recall': 0.473, 'F1 Score': 0.488}\n"
          ],
          "name": "stdout"
        }
      ]
    },
    {
      "cell_type": "code",
      "metadata": {
        "colab": {
          "base_uri": "https://localhost:8080/"
        },
        "id": "qHUCcuF1h5bz",
        "outputId": "756a9b69-2726-4af1-8b2a-a35a26395733"
      },
      "source": [
        "# calculate regressor metrics MSE and RMSE for logistic regression model\n",
        "lr_mse = mean_squared_error(lr_true, lr_pred)\n",
        "lr_rmse = np.sqrt(mean_squared_error(lr_true, lr_pred))\n",
        "\n",
        "print(\"LR MSE:\", lr_mse)\n",
        "print(\"LR RMSE:\", lr_rmse)"
      ],
      "execution_count": null,
      "outputs": [
        {
          "output_type": "stream",
          "text": [
            "LR MSE: 0.5059288537549407\n",
            "LR RMSE: 0.7112867591590193\n"
          ],
          "name": "stdout"
        }
      ]
    },
    {
      "cell_type": "markdown",
      "metadata": {
        "id": "ePCeTN5fiFNz"
      },
      "source": [
        "SVM Model "
      ]
    },
    {
      "cell_type": "code",
      "metadata": {
        "colab": {
          "base_uri": "https://localhost:8080/"
        },
        "id": "imsxRfJ4h5oq",
        "outputId": "ca48d836-b797-441d-e6f9-3ab85c588e7d"
      },
      "source": [
        "# using optimal kernal - rbf and optimal C value - 1000, train the SVM model \n",
        "svm_model = make_pipeline(StandardScaler(), SVC(C=1000, gamma='auto', kernel=\"linear\"))\n",
        "svm_model.fit(X_train, y_train)\n",
        "# calculate the training accuracy\n",
        "svm_train_acc = svm_model.score(X_train, y_train)\n",
        "print(\"Training Set accuracy\", svm_train_acc)\n",
        "\n",
        "# make predictions and calculate the testing accuracy\n",
        "svm_pred = svm_model.predict(X_test)\n",
        "svm_true = y_test\n",
        "svm_test_acc = accuracy_score(y_test, svm_pred)\n",
        "print(\"Test Set accuracy\", svm_test_acc)"
      ],
      "execution_count": null,
      "outputs": [
        {
          "output_type": "stream",
          "text": [
            "Training Set accuracy 0.6656746031746031\n",
            "Test Set accuracy 0.4782608695652174\n"
          ],
          "name": "stdout"
        }
      ]
    },
    {
      "cell_type": "code",
      "metadata": {
        "colab": {
          "base_uri": "https://localhost:8080/",
          "height": 301
        },
        "id": "XN3hcIFCh50z",
        "outputId": "01112476-5368-47a1-98f8-bf7e726939f5"
      },
      "source": [
        "# caclulate confusion matrix to visualize TP, FP, TN, FN rates \n",
        "plot_confusion_matrix(svm_model,X_test,y_test,normalize='true', display_labels=['Not Confused', 'Confused'])\n",
        "plt.grid(False)"
      ],
      "execution_count": null,
      "outputs": [
        {
          "output_type": "display_data",
          "data": {
            "image/png": "[encoded data removed]",
            "text/plain": [
              "<Figure size 432x288 with 2 Axes>"
            ]
          },
          "metadata": {
            "tags": [],
            "needs_background": "light"
          }
        }
      ]
    },
    {
      "cell_type": "code",
      "metadata": {
        "colab": {
          "base_uri": "https://localhost:8080/"
        },
        "id": "9fUdy8s3h6AW",
        "outputId": "6260b0a3-0044-465b-e1a8-f257745aca65"
      },
      "source": [
        "# calculate additional metrics -- accuracy, sensitivity \n",
        "svm_metrics = calculate_metrics(svm_true, svm_pred)\n",
        "print(\"SVM Metrics:\\n\", svm_metrics)"
      ],
      "execution_count": null,
      "outputs": [
        {
          "output_type": "stream",
          "text": [
            "SVM Metrics:\n",
            " {'Accuracy': 0.478, 'Sensitivity': 0.543, 'Specificity': 0.411, 'Precision': 0.49, 'Recall': 0.543, 'F1 Score': 0.515}\n"
          ],
          "name": "stdout"
        }
      ]
    },
    {
      "cell_type": "code",
      "metadata": {
        "colab": {
          "base_uri": "https://localhost:8080/"
        },
        "id": "RaEMIniBh6KO",
        "outputId": "fb8f0adc-d6dd-469e-f2b0-b12e03b25936"
      },
      "source": [
        "# calculate regressor metrics MSE and RMSE for SVM model\n",
        "svm_mse = mean_squared_error(svm_true, svm_pred)\n",
        "svm_rmse = np.sqrt(mean_squared_error(svm_true, svm_pred))\n",
        "\n",
        "print(\"SVM MSE:\", svm_mse)\n",
        "print(\"SVM RMSE:\", svm_rmse)"
      ],
      "execution_count": null,
      "outputs": [
        {
          "output_type": "stream",
          "text": [
            "SVM MSE: 0.5217391304347826\n",
            "SVM RMSE: 0.7223151185146152\n"
          ],
          "name": "stdout"
        }
      ]
    },
    {
      "cell_type": "markdown",
      "metadata": {
        "id": "he27LX2oi4ns"
      },
      "source": [
        "KNN Model"
      ]
    },
    {
      "cell_type": "code",
      "metadata": {
        "colab": {
          "base_uri": "https://localhost:8080/"
        },
        "id": "P5bsWTVCh6VY",
        "outputId": "2152d8ec-1553-4cec-8422-c5242bf0f07a"
      },
      "source": [
        "# train model with 7 different k neighbors to determine the optimal k value \n",
        "neighbors = [3, 5, 7, 9, 11, 13, 15]\n",
        "knn_predicteds=[]\n",
        "\n",
        "for k in neighbors:\n",
        "  # create and train the KNN model \n",
        "  knn_model = KNeighborsClassifier(n_neighbors=k)\n",
        "  knn_model.fit(X_train,y_train)\n",
        "  # calculate the training accuracy\n",
        "  knn_train_acc = knn_model.score(X_train, y_train)\n",
        "  print(\"Training Set accuracy for k =\", k, \" \", knn_train_acc)\n",
        "\n",
        "  # make predictions and calculate the testing accuracy\n",
        "  knn_pred = knn_model.predict(X_test)\n",
        "  knn_true = y_test\n",
        "  knn_test_acc = accuracy_score(knn_true, knn_pred)\n",
        "  print(\"Test Set accuracy for k =\", k, \" \", knn_test_acc)\n",
        "  # add testing accuracy to eventually plot the accuracies for each k value \n",
        "  knn_predicteds.append(knn_test_acc)"
      ],
      "execution_count": null,
      "outputs": [
        {
          "output_type": "stream",
          "text": [
            "Training Set accuracy for k = 3   0.7817460317460317\n",
            "Test Set accuracy for k = 3   0.5691699604743083\n",
            "Training Set accuracy for k = 5   0.7132936507936508\n",
            "Test Set accuracy for k = 5   0.5652173913043478\n",
            "Training Set accuracy for k = 7   0.6944444444444444\n",
            "Test Set accuracy for k = 7   0.5889328063241107\n",
            "Training Set accuracy for k = 9   0.6716269841269841\n",
            "Test Set accuracy for k = 9   0.6086956521739131\n",
            "Training Set accuracy for k = 11   0.6626984126984127\n",
            "Test Set accuracy for k = 11   0.6205533596837944\n",
            "Training Set accuracy for k = 13   0.6636904761904762\n",
            "Test Set accuracy for k = 13   0.5889328063241107\n",
            "Training Set accuracy for k = 15   0.6577380952380952\n",
            "Test Set accuracy for k = 15   0.6007905138339921\n"
          ],
          "name": "stdout"
        }
      ]
    },
    {
      "cell_type": "code",
      "metadata": {
        "colab": {
          "base_uri": "https://localhost:8080/",
          "height": 271
        },
        "id": "oYYMgxWHh6eY",
        "outputId": "5a6747b1-dde9-43a5-cb5c-d006a897464f"
      },
      "source": [
        "# plot the test accuracies for each k value model to evaluate which model performs best \n",
        "plt.figure(figsize=(20,5))\n",
        "plt.plot(neighbors, knn_predicteds)\n",
        "plt.show()"
      ],
      "execution_count": null,
      "outputs": [
        {
          "output_type": "display_data",
          "data": {
            "image/png": "[encoded data removed]",
            "text/plain": [
              "<Figure size 1440x360 with 1 Axes>"
            ]
          },
          "metadata": {
            "tags": [],
            "needs_background": "light"
          }
        }
      ]
    },
    {
      "cell_type": "code",
      "metadata": {
        "colab": {
          "base_uri": "https://localhost:8080/"
        },
        "id": "H90ofCKwi279",
        "outputId": "c1a46530-e903-4aed-c813-25684d96dbe6"
      },
      "source": [
        "# since the accuracy after 11 neighbors does not improve drastically, stick with k = 11\n",
        "# create and train the KNN model \n",
        "knn_model = KNeighborsClassifier(n_neighbors=11)\n",
        "knn_model.fit(X_train, y_train)\n",
        "# calculate the training accuracy\n",
        "knn_train_acc = knn_model.score(X_train, y_train)\n",
        "print(\"Training Set accuracy for k = 11:\", knn_train_acc)\n",
        "\n",
        "# make predictions and calculate the testing accuracy\n",
        "knn_pred = knn_model.predict(X_test)\n",
        "knn_true = y_test\n",
        "knn_test_acc = accuracy_score(knn_true, knn_pred)\n",
        "print(\"Test Set accuracy for k = 11:\", knn_test_acc)"
      ],
      "execution_count": null,
      "outputs": [
        {
          "output_type": "stream",
          "text": [
            "Training Set accuracy for k = 11: 0.6626984126984127\n",
            "Test Set accuracy for k = 11: 0.6205533596837944\n"
          ],
          "name": "stdout"
        }
      ]
    },
    {
      "cell_type": "code",
      "metadata": {
        "colab": {
          "base_uri": "https://localhost:8080/",
          "height": 301
        },
        "id": "8J28rtlJi3If",
        "outputId": "caf15241-88f0-4e0b-b9a3-dafa8481298d"
      },
      "source": [
        "# caclulate confusion matrix to visualize TP, FP, TN, FN rates \n",
        "plot_confusion_matrix(knn_model,X_test,y_test,normalize='true', display_labels=['Not Confused', 'Confused'])\n",
        "plt.grid(False)"
      ],
      "execution_count": null,
      "outputs": [
        {
          "output_type": "display_data",
          "data": {
            "image/png": "[encoded data removed]",
            "text/plain": [
              "<Figure size 432x288 with 2 Axes>"
            ]
          },
          "metadata": {
            "tags": [],
            "needs_background": "light"
          }
        }
      ]
    },
    {
      "cell_type": "code",
      "metadata": {
        "colab": {
          "base_uri": "https://localhost:8080/"
        },
        "id": "w67c7ICDi3TB",
        "outputId": "e256d2ee-d659-4a2b-b535-97867d03d8fc"
      },
      "source": [
        "# calculate additional metrics -- accuracy, sensitivity \n",
        "knn_metrics = calculate_metrics(knn_true, knn_pred)\n",
        "print(\"KNN Metrics:\\n\", knn_metrics)"
      ],
      "execution_count": null,
      "outputs": [
        {
          "output_type": "stream",
          "text": [
            "KNN Metrics:\n",
            " {'Accuracy': 0.621, 'Sensitivity': 0.465, 'Specificity': 0.782, 'Precision': 0.69, 'Recall': 0.465, 'F1 Score': 0.556}\n"
          ],
          "name": "stdout"
        }
      ]
    },
    {
      "cell_type": "code",
      "metadata": {
        "colab": {
          "base_uri": "https://localhost:8080/"
        },
        "id": "IW4GTON8i3cw",
        "outputId": "7984547b-308a-42fd-d054-a8cf5740aed3"
      },
      "source": [
        "# calculate regressor metrics MSE and RMSE for KNN model\n",
        "knn_mse = mean_squared_error(knn_true, knn_pred)\n",
        "knn_rmse = np.sqrt(mean_squared_error(knn_true, knn_pred))\n",
        "\n",
        "print(\"KNN MSE:\", knn_mse)\n",
        "print(\"KNN RMSE:\", knn_rmse)"
      ],
      "execution_count": null,
      "outputs": [
        {
          "output_type": "stream",
          "text": [
            "KNN MSE: 0.3794466403162055\n",
            "KNN RMSE: 0.6159924028072145\n"
          ],
          "name": "stdout"
        }
      ]
    },
    {
      "cell_type": "markdown",
      "metadata": {
        "id": "Xt_ovdNAjS_G"
      },
      "source": [
        "Random Forests Model"
      ]
    },
    {
      "cell_type": "code",
      "metadata": {
        "colab": {
          "base_uri": "https://localhost:8080/"
        },
        "id": "R_rgZV1Qi3mq",
        "outputId": "0d343ee2-41db-49c5-9b7b-a752ee213873"
      },
      "source": [
        "# create and train the Random Forests model \n",
        "# also trained with n_estimators 200, 500, and 2000, but 1000 was the optimal value \n",
        "rf_model = RandomForestClassifier(n_estimators=1000, max_depth=2, random_state=13)\n",
        "rf_model.fit(X_train,y_train)\n",
        "\n",
        "# calculate the training accuracy\n",
        "rf_train_acc = rf_model.score(X_train, y_train)\n",
        "print(\"Training Set accuracy:\", lr_train_acc)\n",
        "\n",
        "# make predictions and calculate the testing accuracy\n",
        "rf_pred = (rf_model.predict(X_test))\n",
        "rf_true = y_test\n",
        "rf_test_acc = accuracy_score(rf_true, rf_pred)\n",
        "print(\"Test Set accuracy:\", rf_test_acc)"
      ],
      "execution_count": null,
      "outputs": [
        {
          "output_type": "stream",
          "text": [
            "Training Set accuracy: 0.6438492063492064\n",
            "Test Set accuracy: 0.5217391304347826\n"
          ],
          "name": "stdout"
        }
      ]
    },
    {
      "cell_type": "code",
      "metadata": {
        "colab": {
          "base_uri": "https://localhost:8080/",
          "height": 307
        },
        "id": "NB2sWsJEjRQP",
        "outputId": "0668ad7d-09f6-4f34-bf42-20f36210ece3"
      },
      "source": [
        "# caclulate confusion matrix to visualize TP, FP, TN, FN rates \n",
        "plot_confusion_matrix(rf_model,X_test,y_test,normalize='true', display_labels=['Not Confused', 'Confused'])\n",
        "plt.grid(False)"
      ],
      "execution_count": null,
      "outputs": [
        {
          "output_type": "display_data",
          "data": {
            "image/png": "[encoded data removed]",
            "text/plain": [
              "<Figure size 432x288 with 2 Axes>"
            ]
          },
          "metadata": {
            "tags": [],
            "needs_background": "light"
          }
        }
      ]
    },
    {
      "cell_type": "code",
      "metadata": {
        "colab": {
          "base_uri": "https://localhost:8080/"
        },
        "id": "otEv42ByjRaX",
        "outputId": "c27f4b82-f053-49e6-8f11-95e1d075d0b3"
      },
      "source": [
        "# calculate additional metrics -- accuracy, sensitivity \n",
        "rf_metrics = calculate_metrics(rf_true, rf_pred,)\n",
        "print(\"Random Forest Metrics:\\n\", rf_metrics)"
      ],
      "execution_count": null,
      "outputs": [
        {
          "output_type": "stream",
          "text": [
            "Random Forest Metrics:\n",
            " {'Accuracy': 0.522, 'Sensitivity': 0.349, 'Specificity': 0.702, 'Precision': 0.549, 'Recall': 0.349, 'F1 Score': 0.427}\n"
          ],
          "name": "stdout"
        }
      ]
    },
    {
      "cell_type": "code",
      "metadata": {
        "colab": {
          "base_uri": "https://localhost:8080/"
        },
        "id": "oTmI1Hb6jRi5",
        "outputId": "fb0bc5e2-a3f4-491d-b9eb-dc39ef393dd5"
      },
      "source": [
        "# calculate regressor metrics MSE and RMSE for Random Forests model\n",
        "rf_mse = mean_squared_error(rf_true, rf_pred)\n",
        "rf_rmse = np.sqrt(mean_squared_error(rf_true, rf_pred))\n",
        "\n",
        "print(\"RF MSE:\", rf_mse)\n",
        "print(\"RF RMSE:\", rf_rmse)"
      ],
      "execution_count": null,
      "outputs": [
        {
          "output_type": "stream",
          "text": [
            "RF MSE: 0.4782608695652174\n",
            "RF RMSE: 0.6915640748081247\n"
          ],
          "name": "stdout"
        }
      ]
    },
    {
      "cell_type": "markdown",
      "metadata": {
        "id": "xXTWSEgGj-sM"
      },
      "source": [
        "Model Comparison on the differently split data"
      ]
    },
    {
      "cell_type": "code",
      "metadata": {
        "colab": {
          "base_uri": "https://localhost:8080/",
          "height": 321
        },
        "id": "XHHuvMZjjRsI",
        "outputId": "43ac6e2c-7b42-460e-cc0f-bcb3680be20c"
      },
      "source": [
        "# plot and visually compare the accuracies for each model\n",
        "labels = [\"Logistic Reg\", \"SVM\", \"KNN\", \"Random Forests\"]\n",
        "accuracies = np.round([lr_test_acc, svm_test_acc, knn_test_acc, rf_test_acc], 4)\n",
        "plt.bar(labels, accuracies, color=\"mediumpurple\", width = 0.4)\n",
        "plt.xlabel(\"Models\")\n",
        "plt.ylabel(\"Accuracies\")\n",
        "plt.title(\"Model's Accuracies\")\n",
        "\n",
        "# add the actual values on top of the bars \n",
        "for i, v in enumerate(accuracies):\n",
        "  plt.text(accuracies[i] + (i - 0.87), v + 0.015, str(v), size=12)\n",
        "plt.show()"
      ],
      "execution_count": null,
      "outputs": [
        {
          "output_type": "display_data",
          "data": {
            "image/png": "[encoded data removed]",
            "text/plain": [
              "<Figure size 432x288 with 1 Axes>"
            ]
          },
          "metadata": {
            "tags": [],
            "needs_background": "light"
          }
        }
      ]
    },
    {
      "cell_type": "code",
      "metadata": {
        "colab": {
          "base_uri": "https://localhost:8080/",
          "height": 547
        },
        "id": "k2ZaZYlhjR3w",
        "outputId": "5c9b6273-108c-4252-b478-ac7397b34797"
      },
      "source": [
        "# plot and visually compare the MSE and RMSE for each model\n",
        "labels = [\"Logistic Reg\", \"SVM\", \"KNN\", \"Random Forests\"]\n",
        "MSE = np.round([lr_mse, svm_mse, knn_mse, rf_mse], 4)\n",
        "RMSE = np.round([lr_rmse, svm_rmse, knn_rmse, rf_rmse], 4)\n",
        "ind = np.arange(4)\n",
        "width = 0.3\n",
        "\n",
        "plt.figure(figsize=(15, 8))\n",
        "plt.bar(ind, MSE, width, label = \"MSE\", color=\"cadetblue\")\n",
        "plt.bar(ind + width, RMSE, width, label = \"RMSE\", color=\"rosybrown\")\n",
        "\n",
        "plt.xlabel(\"Models\", labelpad=13)\n",
        "plt.ylabel(\"Metrics\", labelpad=13)\n",
        "plt.xticks(ind + width/2, (labels))\n",
        "plt.xticks(ha= \"center\")\n",
        "plt.title(\"Model's Metrics\")\n",
        "plt.legend(loc=\"upper left\")\n",
        "\n",
        "# add the actual values on top of the bars \n",
        "for i, v in enumerate(MSE):\n",
        "  # evenly space out SVM\n",
        "  if i == 1:\n",
        "    plt.text(MSE[i] + (i - 0.6), v + 0.015, str(v), size=12)\n",
        "  # evenly space out the other 3 models\n",
        "  else:\n",
        "    plt.text(MSE[i] + (i - 0.57), v + 0.015, str(v), size=12)\n",
        "for i, v in enumerate(RMSE):\n",
        "  # evenly space out SVM\n",
        "  if i == 1:\n",
        "    plt.text(RMSE[i] + (i - 0.53), v + 0.015, str(v), size=12)\n",
        "  # evenly space out the other 3 models\n",
        "  else:\n",
        "      plt.text(RMSE[i] + (i - 0.46), v + 0.015, str(v), size=12)\n",
        "plt.show()"
      ],
      "execution_count": null,
      "outputs": [
        {
          "output_type": "display_data",
          "data": {
            "image/png": "[encoded data removed]",
            "text/plain": [
              "<Figure size 1080x576 with 1 Axes>"
            ]
          },
          "metadata": {
            "tags": [],
            "needs_background": "light"
          }
        }
      ]
    },
    {
      "cell_type": "markdown",
      "metadata": {
        "id": "wpPdDovlq2Nj"
      },
      "source": [
        "After training the models and calculating the error metrics, the overall best perorming model is now the KNN model followed by Random Forests then Logistic Regression and lastly SVM. This is quite different from our earlier results where SVM performed the best and then Random Forests, Logistic Regression, and lastly KNN. If given more time, we would have conducted more anlaysis and hyperparameter tuning to see why KNN which used to be our worst performing model is now performing well on this newly split data."
      ]
    }
  ]
}